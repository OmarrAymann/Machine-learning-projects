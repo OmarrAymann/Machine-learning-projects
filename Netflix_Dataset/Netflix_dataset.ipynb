{
  "cells": [
    {
      "cell_type": "markdown",
      "metadata": {
        "id": "umuHxqzHti25"
      },
      "source": [
        "<h1 style=\"background-color:rgba(124, 40, 29, 0.92); font-family: newtimeroman; font-size: 250%; color: white; border-radius: 80px 20px; padding: 25px; text-align: center;\">\n",
        "  <b>Netflix dataset</b>\n",
        "</h1>"
      ]
    },
    {
      "cell_type": "markdown",
      "metadata": {
        "id": "mAaJ7PZTt0Q_"
      },
      "source": [
        "**Key Features**  :\n",
        "\n",
        "- **show_id**: Unique identifier for each show\n",
        "- **type**: Whether it is a movie or TV show\n",
        "- **title**: Name of the show\n",
        "- **director**: Director of the show (if available)\n",
        "- **cast**: Actors in the show\n",
        "- **country**: Country of origin\n",
        "- **date_added**: Date when it was added to Netflix\n",
        "- **release_year**: Year the show was released\n",
        "- **rating**: Age rating (e.g., PG, R, TV-MA)\n",
        "- **duration**: Duration of the movie or number of seasons for - TV shows\n",
        "- **listed_in**: Genres or categories\n",
        "- **description**: Brief summary of the show"
      ]
    },
    {
      "cell_type": "markdown",
      "metadata": {
        "id": "6AD2aiK-tU0C"
      },
      "source": [
        "# `01` Import Libraries"
      ]
    },
    {
      "cell_type": "code",
      "execution_count": 1,
      "metadata": {
        "id": "Lrr-mnTXs-az"
      },
      "outputs": [],
      "source": [
        "import numpy as np\n",
        "import pandas as pd\n",
        "import matplotlib.pyplot as plt\n",
        "import seaborn as sns"
      ]
    },
    {
      "cell_type": "markdown",
      "metadata": {
        "id": "Dpoe04kivAUu"
      },
      "source": [
        "# `02` Load Data\n",
        "\n",
        "Note: Make sure the `Data` folder attached with the notebook is in the same path for this cell to work properly.\n",
        "\n",
        "[Dataset Link](https://www.kaggle.com/datasets/shivamb/netflix-shows)"
      ]
    },
    {
      "cell_type": "code",
      "execution_count": 2,
      "metadata": {
        "id": "Sl12b0YLuqDO"
      },
      "outputs": [],
      "source": [
        "data=pd.read_csv(r'O:\\iti\\ZzZ projects\\Netflix\\netflix_titles.csv')"
      ]
    },
    {
      "cell_type": "markdown",
      "metadata": {
        "id": "xaAcfWLjvLAv"
      },
      "source": [
        "# `03` Simple Analysis & Exploratory Data Analysis (EDA)"
      ]
    },
    {
      "cell_type": "code",
      "execution_count": 3,
      "metadata": {
        "colab": {
          "base_uri": "https://localhost:8080/",
          "height": 397
        },
        "id": "HAFLFubou4-t",
        "outputId": "55c10ebf-99b5-46f2-9676-2c753d629153"
      },
      "outputs": [
        {
          "data": {
            "application/vnd.microsoft.datawrangler.viewer.v0+json": {
              "columns": [
                {
                  "name": "index",
                  "rawType": "int64",
                  "type": "integer"
                },
                {
                  "name": "show_id",
                  "rawType": "object",
                  "type": "string"
                },
                {
                  "name": "type",
                  "rawType": "object",
                  "type": "string"
                },
                {
                  "name": "title",
                  "rawType": "object",
                  "type": "string"
                },
                {
                  "name": "director",
                  "rawType": "object",
                  "type": "unknown"
                },
                {
                  "name": "cast",
                  "rawType": "object",
                  "type": "unknown"
                },
                {
                  "name": "country",
                  "rawType": "object",
                  "type": "unknown"
                },
                {
                  "name": "date_added",
                  "rawType": "object",
                  "type": "string"
                },
                {
                  "name": "release_year",
                  "rawType": "int64",
                  "type": "integer"
                },
                {
                  "name": "rating",
                  "rawType": "object",
                  "type": "string"
                },
                {
                  "name": "duration",
                  "rawType": "object",
                  "type": "string"
                },
                {
                  "name": "listed_in",
                  "rawType": "object",
                  "type": "string"
                },
                {
                  "name": "description",
                  "rawType": "object",
                  "type": "string"
                }
              ],
              "conversionMethod": "pd.DataFrame",
              "ref": "308965c3-9260-442a-9b2e-2bd740f2d316",
              "rows": [
                [
                  "0",
                  "s1",
                  "Movie",
                  "Dick Johnson Is Dead",
                  "Kirsten Johnson",
                  null,
                  "United States",
                  "September 25, 2021",
                  "2020",
                  "PG-13",
                  "90 min",
                  "Documentaries",
                  "As her father nears the end of his life, filmmaker Kirsten Johnson stages his death in inventive and comical ways to help them both face the inevitable."
                ],
                [
                  "1",
                  "s2",
                  "TV Show",
                  "Blood & Water",
                  null,
                  "Ama Qamata, Khosi Ngema, Gail Mabalane, Thabang Molaba, Dillon Windvogel, Natasha Thahane, Arno Greeff, Xolile Tshabalala, Getmore Sithole, Cindy Mahlangu, Ryle De Morny, Greteli Fincham, Sello Maake Ka-Ncube, Odwa Gwanya, Mekaila Mathys, Sandi Schultz, Duane Williams, Shamilla Miller, Patrick Mofokeng",
                  "South Africa",
                  "September 24, 2021",
                  "2021",
                  "TV-MA",
                  "2 Seasons",
                  "International TV Shows, TV Dramas, TV Mysteries",
                  "After crossing paths at a party, a Cape Town teen sets out to prove whether a private-school swimming star is her sister who was abducted at birth."
                ],
                [
                  "2",
                  "s3",
                  "TV Show",
                  "Ganglands",
                  "Julien Leclercq",
                  "Sami Bouajila, Tracy Gotoas, Samuel Jouy, Nabiha Akkari, Sofia Lesaffre, Salim Kechiouche, Noureddine Farihi, Geert Van Rampelberg, Bakary Diombera",
                  null,
                  "September 24, 2021",
                  "2021",
                  "TV-MA",
                  "1 Season",
                  "Crime TV Shows, International TV Shows, TV Action & Adventure",
                  "To protect his family from a powerful drug lord, skilled thief Mehdi and his expert team of robbers are pulled into a violent and deadly turf war."
                ],
                [
                  "3",
                  "s4",
                  "TV Show",
                  "Jailbirds New Orleans",
                  null,
                  null,
                  null,
                  "September 24, 2021",
                  "2021",
                  "TV-MA",
                  "1 Season",
                  "Docuseries, Reality TV",
                  "Feuds, flirtations and toilet talk go down among the incarcerated women at the Orleans Justice Center in New Orleans on this gritty reality series."
                ],
                [
                  "4",
                  "s5",
                  "TV Show",
                  "Kota Factory",
                  null,
                  "Mayur More, Jitendra Kumar, Ranjan Raj, Alam Khan, Ahsaas Channa, Revathi Pillai, Urvi Singh, Arun Kumar",
                  "India",
                  "September 24, 2021",
                  "2021",
                  "TV-MA",
                  "2 Seasons",
                  "International TV Shows, Romantic TV Shows, TV Comedies",
                  "In a city of coaching centers known to train India’s finest collegiate minds, an earnest but unexceptional student and his friends navigate campus life."
                ]
              ],
              "shape": {
                "columns": 12,
                "rows": 5
              }
            },
            "text/html": [
              "<div>\n",
              "<style scoped>\n",
              "    .dataframe tbody tr th:only-of-type {\n",
              "        vertical-align: middle;\n",
              "    }\n",
              "\n",
              "    .dataframe tbody tr th {\n",
              "        vertical-align: top;\n",
              "    }\n",
              "\n",
              "    .dataframe thead th {\n",
              "        text-align: right;\n",
              "    }\n",
              "</style>\n",
              "<table border=\"1\" class=\"dataframe\">\n",
              "  <thead>\n",
              "    <tr style=\"text-align: right;\">\n",
              "      <th></th>\n",
              "      <th>show_id</th>\n",
              "      <th>type</th>\n",
              "      <th>title</th>\n",
              "      <th>director</th>\n",
              "      <th>cast</th>\n",
              "      <th>country</th>\n",
              "      <th>date_added</th>\n",
              "      <th>release_year</th>\n",
              "      <th>rating</th>\n",
              "      <th>duration</th>\n",
              "      <th>listed_in</th>\n",
              "      <th>description</th>\n",
              "    </tr>\n",
              "  </thead>\n",
              "  <tbody>\n",
              "    <tr>\n",
              "      <th>0</th>\n",
              "      <td>s1</td>\n",
              "      <td>Movie</td>\n",
              "      <td>Dick Johnson Is Dead</td>\n",
              "      <td>Kirsten Johnson</td>\n",
              "      <td>NaN</td>\n",
              "      <td>United States</td>\n",
              "      <td>September 25, 2021</td>\n",
              "      <td>2020</td>\n",
              "      <td>PG-13</td>\n",
              "      <td>90 min</td>\n",
              "      <td>Documentaries</td>\n",
              "      <td>As her father nears the end of his life, filmm...</td>\n",
              "    </tr>\n",
              "    <tr>\n",
              "      <th>1</th>\n",
              "      <td>s2</td>\n",
              "      <td>TV Show</td>\n",
              "      <td>Blood &amp; Water</td>\n",
              "      <td>NaN</td>\n",
              "      <td>Ama Qamata, Khosi Ngema, Gail Mabalane, Thaban...</td>\n",
              "      <td>South Africa</td>\n",
              "      <td>September 24, 2021</td>\n",
              "      <td>2021</td>\n",
              "      <td>TV-MA</td>\n",
              "      <td>2 Seasons</td>\n",
              "      <td>International TV Shows, TV Dramas, TV Mysteries</td>\n",
              "      <td>After crossing paths at a party, a Cape Town t...</td>\n",
              "    </tr>\n",
              "    <tr>\n",
              "      <th>2</th>\n",
              "      <td>s3</td>\n",
              "      <td>TV Show</td>\n",
              "      <td>Ganglands</td>\n",
              "      <td>Julien Leclercq</td>\n",
              "      <td>Sami Bouajila, Tracy Gotoas, Samuel Jouy, Nabi...</td>\n",
              "      <td>NaN</td>\n",
              "      <td>September 24, 2021</td>\n",
              "      <td>2021</td>\n",
              "      <td>TV-MA</td>\n",
              "      <td>1 Season</td>\n",
              "      <td>Crime TV Shows, International TV Shows, TV Act...</td>\n",
              "      <td>To protect his family from a powerful drug lor...</td>\n",
              "    </tr>\n",
              "    <tr>\n",
              "      <th>3</th>\n",
              "      <td>s4</td>\n",
              "      <td>TV Show</td>\n",
              "      <td>Jailbirds New Orleans</td>\n",
              "      <td>NaN</td>\n",
              "      <td>NaN</td>\n",
              "      <td>NaN</td>\n",
              "      <td>September 24, 2021</td>\n",
              "      <td>2021</td>\n",
              "      <td>TV-MA</td>\n",
              "      <td>1 Season</td>\n",
              "      <td>Docuseries, Reality TV</td>\n",
              "      <td>Feuds, flirtations and toilet talk go down amo...</td>\n",
              "    </tr>\n",
              "    <tr>\n",
              "      <th>4</th>\n",
              "      <td>s5</td>\n",
              "      <td>TV Show</td>\n",
              "      <td>Kota Factory</td>\n",
              "      <td>NaN</td>\n",
              "      <td>Mayur More, Jitendra Kumar, Ranjan Raj, Alam K...</td>\n",
              "      <td>India</td>\n",
              "      <td>September 24, 2021</td>\n",
              "      <td>2021</td>\n",
              "      <td>TV-MA</td>\n",
              "      <td>2 Seasons</td>\n",
              "      <td>International TV Shows, Romantic TV Shows, TV ...</td>\n",
              "      <td>In a city of coaching centers known to train I...</td>\n",
              "    </tr>\n",
              "  </tbody>\n",
              "</table>\n",
              "</div>"
            ],
            "text/plain": [
              "  show_id     type                  title         director  \\\n",
              "0      s1    Movie   Dick Johnson Is Dead  Kirsten Johnson   \n",
              "1      s2  TV Show          Blood & Water              NaN   \n",
              "2      s3  TV Show              Ganglands  Julien Leclercq   \n",
              "3      s4  TV Show  Jailbirds New Orleans              NaN   \n",
              "4      s5  TV Show           Kota Factory              NaN   \n",
              "\n",
              "                                                cast        country  \\\n",
              "0                                                NaN  United States   \n",
              "1  Ama Qamata, Khosi Ngema, Gail Mabalane, Thaban...   South Africa   \n",
              "2  Sami Bouajila, Tracy Gotoas, Samuel Jouy, Nabi...            NaN   \n",
              "3                                                NaN            NaN   \n",
              "4  Mayur More, Jitendra Kumar, Ranjan Raj, Alam K...          India   \n",
              "\n",
              "           date_added  release_year rating   duration  \\\n",
              "0  September 25, 2021          2020  PG-13     90 min   \n",
              "1  September 24, 2021          2021  TV-MA  2 Seasons   \n",
              "2  September 24, 2021          2021  TV-MA   1 Season   \n",
              "3  September 24, 2021          2021  TV-MA   1 Season   \n",
              "4  September 24, 2021          2021  TV-MA  2 Seasons   \n",
              "\n",
              "                                           listed_in  \\\n",
              "0                                      Documentaries   \n",
              "1    International TV Shows, TV Dramas, TV Mysteries   \n",
              "2  Crime TV Shows, International TV Shows, TV Act...   \n",
              "3                             Docuseries, Reality TV   \n",
              "4  International TV Shows, Romantic TV Shows, TV ...   \n",
              "\n",
              "                                         description  \n",
              "0  As her father nears the end of his life, filmm...  \n",
              "1  After crossing paths at a party, a Cape Town t...  \n",
              "2  To protect his family from a powerful drug lor...  \n",
              "3  Feuds, flirtations and toilet talk go down amo...  \n",
              "4  In a city of coaching centers known to train I...  "
            ]
          },
          "execution_count": 3,
          "metadata": {},
          "output_type": "execute_result"
        }
      ],
      "source": [
        "data.head()"
      ]
    },
    {
      "cell_type": "code",
      "execution_count": 4,
      "metadata": {
        "colab": {
          "base_uri": "https://localhost:8080/"
        },
        "id": "PgDGzma0xDcW",
        "outputId": "f6d97e8d-bd64-4607-b21e-80db61a6a439"
      },
      "outputs": [
        {
          "data": {
            "text/plain": [
              "(8807, 12)"
            ]
          },
          "execution_count": 4,
          "metadata": {},
          "output_type": "execute_result"
        }
      ],
      "source": [
        "data.shape"
      ]
    },
    {
      "cell_type": "markdown",
      "metadata": {
        "id": "EWrcbWuvv829"
      },
      "source": [
        "### There are nulls in the data"
      ]
    },
    {
      "cell_type": "code",
      "execution_count": 5,
      "metadata": {
        "colab": {
          "base_uri": "https://localhost:8080/",
          "height": 460
        },
        "id": "VHXUMj5Ku47O",
        "outputId": "7bbfbf57-3c8c-47f3-940a-136548c50b8f"
      },
      "outputs": [
        {
          "data": {
            "text/plain": [
              "show_id            0\n",
              "type               0\n",
              "title              0\n",
              "director        2634\n",
              "cast             825\n",
              "country          831\n",
              "date_added        10\n",
              "release_year       0\n",
              "rating             4\n",
              "duration           3\n",
              "listed_in          0\n",
              "description        0\n",
              "dtype: int64"
            ]
          },
          "execution_count": 5,
          "metadata": {},
          "output_type": "execute_result"
        }
      ],
      "source": [
        "data.isnull().sum()"
      ]
    },
    {
      "cell_type": "markdown",
      "metadata": {
        "id": "owN5yXNzwC4E"
      },
      "source": [
        "### No duplicated data"
      ]
    },
    {
      "cell_type": "code",
      "execution_count": 6,
      "metadata": {
        "colab": {
          "base_uri": "https://localhost:8080/"
        },
        "id": "FCQnmmSzu4ze",
        "outputId": "0fd5fd2b-9ee4-4268-e6b1-f993ab45b49a"
      },
      "outputs": [
        {
          "data": {
            "text/plain": [
              "np.int64(0)"
            ]
          },
          "execution_count": 6,
          "metadata": {},
          "output_type": "execute_result"
        }
      ],
      "source": [
        "data.duplicated().sum()"
      ]
    },
    {
      "cell_type": "code",
      "execution_count": 7,
      "metadata": {
        "colab": {
          "base_uri": "https://localhost:8080/",
          "height": 460
        },
        "id": "sUUDTDWFwIg9",
        "outputId": "1ddc5926-850f-46b7-884c-5f37f93acc63"
      },
      "outputs": [
        {
          "data": {
            "text/plain": [
              "type               2\n",
              "rating            17\n",
              "release_year      74\n",
              "duration         220\n",
              "listed_in        514\n",
              "country          748\n",
              "date_added      1767\n",
              "director        4528\n",
              "cast            7692\n",
              "description     8775\n",
              "show_id         8807\n",
              "title           8807\n",
              "dtype: int64"
            ]
          },
          "execution_count": 7,
          "metadata": {},
          "output_type": "execute_result"
        }
      ],
      "source": [
        "data.nunique().sort_values()"
      ]
    },
    {
      "cell_type": "markdown",
      "metadata": {
        "id": "yOM4vJn54jkg"
      },
      "source": [
        "### Distribution of data"
      ]
    },
    {
      "cell_type": "code",
      "execution_count": 28,
      "metadata": {
        "colab": {
          "base_uri": "https://localhost:8080/",
          "height": 614
        },
        "id": "7GWDhTjTwIeN",
        "outputId": "35fbb49d-b635-4fda-d22c-aa6a8fe1fa9c"
      },
      "outputs": [
        {
          "name": "stderr",
          "output_type": "stream",
          "text": [
            "C:\\Users\\Omar Elgema3y\\AppData\\Local\\Temp\\ipykernel_17304\\485789175.py:1: FutureWarning: \n",
            "\n",
            "Passing `palette` without assigning `hue` is deprecated and will be removed in v0.14.0. Assign the `x` variable to `hue` and set `legend=False` for the same effect.\n",
            "\n",
            "  sns.countplot(data=data, x=\"type\", palette=\"coolwarm\")\n"
          ]
        },
        {
          "data": {
            "image/png": "[encoded data removed]",
            "text/plain": [
              "<Figure size 640x480 with 1 Axes>"
            ]
          },
          "metadata": {},
          "output_type": "display_data"
        }
      ],
      "source": [
        "sns.countplot(data=data, x=\"type\", palette=\"coolwarm\")\n",
        "plt.title(\"Distribution of Movies vs TV Shows\")\n",
        "plt.xlabel(\"Type\")\n",
        "plt.ylabel(\"Count\")\n",
        "plt.show()"
      ]
    },
    {
      "cell_type": "code",
      "execution_count": 9,
      "metadata": {
        "colab": {
          "base_uri": "https://localhost:8080/",
          "height": 579
        },
        "id": "FM9ZiQXOwIbt",
        "outputId": "b3f972a3-527b-4adb-f1ab-8eb4ffcba695"
      },
      "outputs": [
        {
          "name": "stderr",
          "output_type": "stream",
          "text": [
            "C:\\Users\\Omar Elgema3y\\AppData\\Local\\Temp\\ipykernel_17304\\13468921.py:2: FutureWarning: \n",
            "\n",
            "Passing `palette` without assigning `hue` is deprecated and will be removed in v0.14.0. Assign the `y` variable to `hue` and set `legend=False` for the same effect.\n",
            "\n",
            "  sns.barplot(x=top_countries.values, y=top_countries.index, palette=\"coolwarm\")\n"
          ]
        },
        {
          "data": {
            "image/png": "[encoded data removed]",
            "text/plain": [
              "<Figure size 640x480 with 1 Axes>"
            ]
          },
          "metadata": {},
          "output_type": "display_data"
        }
      ],
      "source": [
        "top_countries = data[\"country\"].value_counts().head(10)\n",
        "sns.barplot(x=top_countries.values, y=top_countries.index, palette=\"coolwarm\")\n",
        "plt.title(\"Top 10 Countries Producing Netflix Content\")\n",
        "plt.xlabel(\"Number of Titles\")\n",
        "plt.ylabel(\"Country\")\n",
        "plt.show()"
      ]
    },
    {
      "cell_type": "markdown",
      "metadata": {
        "id": "aElHkxzB2zLB"
      },
      "source": [
        "## Display Netflix content over years"
      ]
    },
    {
      "cell_type": "code",
      "execution_count": 34,
      "metadata": {
        "colab": {
          "base_uri": "https://localhost:8080/",
          "height": 485
        },
        "id": "OPK64IxdzxNq",
        "outputId": "7b276167-14d0-4c78-912b-a192830f8c87"
      },
      "outputs": [
        {
          "data": {
            "image/png": "[encoded data removed]",
            "text/plain": [
              "<Figure size 1500x1000 with 1 Axes>"
            ]
          },
          "metadata": {},
          "output_type": "display_data"
        }
      ],
      "source": [
        "plt.figure(figsize=(15,10))\n",
        "data[\"release_year\"].value_counts().sort_index().plot(kind=\"line\", marker=\"x\", color=\"b\")\n",
        "plt.title(\"Netflix Content Over Time\")\n",
        "plt.xlabel(\"Year\")\n",
        "plt.ylabel(\"Number of Titles\")\n",
        "plt.show()\n"
      ]
    },
    {
      "cell_type": "markdown",
      "metadata": {
        "id": "QPCFjlsL2lYi"
      },
      "source": [
        "## movies released in the 1990s (1990-1999)"
      ]
    },
    {
      "cell_type": "code",
      "execution_count": 11,
      "metadata": {
        "colab": {
          "base_uri": "https://localhost:8080/",
          "height": 484
        },
        "id": "lbAamqNAzxHU",
        "outputId": "58f7b0d0-e552-47cc-e7b2-033cac12bc13"
      },
      "outputs": [
        {
          "data": {
            "application/vnd.microsoft.datawrangler.viewer.v0+json": {
              "columns": [
                {
                  "name": "index",
                  "rawType": "int64",
                  "type": "integer"
                },
                {
                  "name": "show_id",
                  "rawType": "object",
                  "type": "string"
                },
                {
                  "name": "type",
                  "rawType": "object",
                  "type": "string"
                },
                {
                  "name": "title",
                  "rawType": "object",
                  "type": "string"
                },
                {
                  "name": "director",
                  "rawType": "object",
                  "type": "string"
                },
                {
                  "name": "cast",
                  "rawType": "object",
                  "type": "string"
                },
                {
                  "name": "country",
                  "rawType": "object",
                  "type": "unknown"
                },
                {
                  "name": "date_added",
                  "rawType": "object",
                  "type": "string"
                },
                {
                  "name": "release_year",
                  "rawType": "int64",
                  "type": "integer"
                },
                {
                  "name": "rating",
                  "rawType": "object",
                  "type": "string"
                },
                {
                  "name": "duration",
                  "rawType": "object",
                  "type": "string"
                },
                {
                  "name": "listed_in",
                  "rawType": "object",
                  "type": "string"
                },
                {
                  "name": "description",
                  "rawType": "object",
                  "type": "string"
                }
              ],
              "conversionMethod": "pd.DataFrame",
              "ref": "4824fb00-9058-438e-80a8-f0fd3f2a869a",
              "rows": [
                [
                  "7",
                  "s8",
                  "Movie",
                  "Sankofa",
                  "Haile Gerima",
                  "Kofi Ghanaba, Oyafunmike Ogunlano, Alexandra Duah, Nick Medley, Mutabaruka, Afemo Omilami, Reggie Carter, Mzuri",
                  "United States, Ghana, Burkina Faso, United Kingdom, Germany, Ethiopia",
                  "September 24, 2021",
                  "1993",
                  "TV-MA",
                  "125 min",
                  "Dramas, Independent Movies, International Movies",
                  "On a photo shoot in Ghana, an American model slips back in time, becomes enslaved on a plantation and bears witness to the agony of her ancestral past."
                ],
                [
                  "22",
                  "s23",
                  "Movie",
                  "Avvai Shanmughi",
                  "K.S. Ravikumar",
                  "Kamal Hassan, Meena, Gemini Ganesan, Heera Rajgopal, Nassar, S.P. Balasubrahmanyam",
                  null,
                  "September 21, 2021",
                  "1996",
                  "TV-PG",
                  "161 min",
                  "Comedies, International Movies",
                  "Newly divorced and denied visitation rights with his daughter, a doting father disguises himself as a gray-haired nanny in order to spend time with her."
                ],
                [
                  "24",
                  "s25",
                  "Movie",
                  "Jeans",
                  "S. Shankar",
                  "Prashanth, Aishwarya Rai Bachchan, Sri Lakshmi, Nassar",
                  "India",
                  "September 21, 2021",
                  "1998",
                  "TV-14",
                  "166 min",
                  "Comedies, International Movies, Romantic Movies",
                  "When the father of the man she loves insists that his twin sons marry twin sisters, a woman creates an alter ego that might be a bit too convincing."
                ],
                [
                  "26",
                  "s27",
                  "Movie",
                  "Minsara Kanavu",
                  "Rajiv Menon",
                  "Arvind Swamy, Kajol, Prabhu Deva, Nassar, S.P. Balasubrahmanyam, Girish Karnad",
                  null,
                  "September 21, 2021",
                  "1997",
                  "TV-PG",
                  "147 min",
                  "Comedies, International Movies, Music & Musicals",
                  "A tangled love triangle ensues when a man falls for a woman studying to become a nun — and she falls for the friend he enlists to help him pursue her."
                ],
                [
                  "114",
                  "s115",
                  "Movie",
                  "Anjaam",
                  "Rahul Rawail",
                  "Madhuri Dixit, Shah Rukh Khan, Tinnu Anand, Johny Lever, Kalpana Iyer, Himani Shivpuri, Sudha Chandran, Beena, Kiran Kumar",
                  "India",
                  "September 2, 2021",
                  "1994",
                  "TV-14",
                  "143 min",
                  "Dramas, International Movies, Thrillers",
                  "A wealthy industrialist’s dangerous obsession with a flight attendant destroys her world, until she takes matters into her own hands to exact revenge."
                ]
              ],
              "shape": {
                "columns": 12,
                "rows": 5
              }
            },
            "text/html": [
              "<div>\n",
              "<style scoped>\n",
              "    .dataframe tbody tr th:only-of-type {\n",
              "        vertical-align: middle;\n",
              "    }\n",
              "\n",
              "    .dataframe tbody tr th {\n",
              "        vertical-align: top;\n",
              "    }\n",
              "\n",
              "    .dataframe thead th {\n",
              "        text-align: right;\n",
              "    }\n",
              "</style>\n",
              "<table border=\"1\" class=\"dataframe\">\n",
              "  <thead>\n",
              "    <tr style=\"text-align: right;\">\n",
              "      <th></th>\n",
              "      <th>show_id</th>\n",
              "      <th>type</th>\n",
              "      <th>title</th>\n",
              "      <th>director</th>\n",
              "      <th>cast</th>\n",
              "      <th>country</th>\n",
              "      <th>date_added</th>\n",
              "      <th>release_year</th>\n",
              "      <th>rating</th>\n",
              "      <th>duration</th>\n",
              "      <th>listed_in</th>\n",
              "      <th>description</th>\n",
              "    </tr>\n",
              "  </thead>\n",
              "  <tbody>\n",
              "    <tr>\n",
              "      <th>7</th>\n",
              "      <td>s8</td>\n",
              "      <td>Movie</td>\n",
              "      <td>Sankofa</td>\n",
              "      <td>Haile Gerima</td>\n",
              "      <td>Kofi Ghanaba, Oyafunmike Ogunlano, Alexandra D...</td>\n",
              "      <td>United States, Ghana, Burkina Faso, United Kin...</td>\n",
              "      <td>September 24, 2021</td>\n",
              "      <td>1993</td>\n",
              "      <td>TV-MA</td>\n",
              "      <td>125 min</td>\n",
              "      <td>Dramas, Independent Movies, International Movies</td>\n",
              "      <td>On a photo shoot in Ghana, an American model s...</td>\n",
              "    </tr>\n",
              "    <tr>\n",
              "      <th>22</th>\n",
              "      <td>s23</td>\n",
              "      <td>Movie</td>\n",
              "      <td>Avvai Shanmughi</td>\n",
              "      <td>K.S. Ravikumar</td>\n",
              "      <td>Kamal Hassan, Meena, Gemini Ganesan, Heera Raj...</td>\n",
              "      <td>NaN</td>\n",
              "      <td>September 21, 2021</td>\n",
              "      <td>1996</td>\n",
              "      <td>TV-PG</td>\n",
              "      <td>161 min</td>\n",
              "      <td>Comedies, International Movies</td>\n",
              "      <td>Newly divorced and denied visitation rights wi...</td>\n",
              "    </tr>\n",
              "    <tr>\n",
              "      <th>24</th>\n",
              "      <td>s25</td>\n",
              "      <td>Movie</td>\n",
              "      <td>Jeans</td>\n",
              "      <td>S. Shankar</td>\n",
              "      <td>Prashanth, Aishwarya Rai Bachchan, Sri Lakshmi...</td>\n",
              "      <td>India</td>\n",
              "      <td>September 21, 2021</td>\n",
              "      <td>1998</td>\n",
              "      <td>TV-14</td>\n",
              "      <td>166 min</td>\n",
              "      <td>Comedies, International Movies, Romantic Movies</td>\n",
              "      <td>When the father of the man she loves insists t...</td>\n",
              "    </tr>\n",
              "    <tr>\n",
              "      <th>26</th>\n",
              "      <td>s27</td>\n",
              "      <td>Movie</td>\n",
              "      <td>Minsara Kanavu</td>\n",
              "      <td>Rajiv Menon</td>\n",
              "      <td>Arvind Swamy, Kajol, Prabhu Deva, Nassar, S.P....</td>\n",
              "      <td>NaN</td>\n",
              "      <td>September 21, 2021</td>\n",
              "      <td>1997</td>\n",
              "      <td>TV-PG</td>\n",
              "      <td>147 min</td>\n",
              "      <td>Comedies, International Movies, Music &amp; Musicals</td>\n",
              "      <td>A tangled love triangle ensues when a man fall...</td>\n",
              "    </tr>\n",
              "    <tr>\n",
              "      <th>114</th>\n",
              "      <td>s115</td>\n",
              "      <td>Movie</td>\n",
              "      <td>Anjaam</td>\n",
              "      <td>Rahul Rawail</td>\n",
              "      <td>Madhuri Dixit, Shah Rukh Khan, Tinnu Anand, Jo...</td>\n",
              "      <td>India</td>\n",
              "      <td>September 2, 2021</td>\n",
              "      <td>1994</td>\n",
              "      <td>TV-14</td>\n",
              "      <td>143 min</td>\n",
              "      <td>Dramas, International Movies, Thrillers</td>\n",
              "      <td>A wealthy industrialist’s dangerous obsession ...</td>\n",
              "    </tr>\n",
              "  </tbody>\n",
              "</table>\n",
              "</div>"
            ],
            "text/plain": [
              "    show_id   type            title        director  \\\n",
              "7        s8  Movie          Sankofa    Haile Gerima   \n",
              "22      s23  Movie  Avvai Shanmughi  K.S. Ravikumar   \n",
              "24      s25  Movie            Jeans      S. Shankar   \n",
              "26      s27  Movie   Minsara Kanavu     Rajiv Menon   \n",
              "114    s115  Movie           Anjaam    Rahul Rawail   \n",
              "\n",
              "                                                  cast  \\\n",
              "7    Kofi Ghanaba, Oyafunmike Ogunlano, Alexandra D...   \n",
              "22   Kamal Hassan, Meena, Gemini Ganesan, Heera Raj...   \n",
              "24   Prashanth, Aishwarya Rai Bachchan, Sri Lakshmi...   \n",
              "26   Arvind Swamy, Kajol, Prabhu Deva, Nassar, S.P....   \n",
              "114  Madhuri Dixit, Shah Rukh Khan, Tinnu Anand, Jo...   \n",
              "\n",
              "                                               country          date_added  \\\n",
              "7    United States, Ghana, Burkina Faso, United Kin...  September 24, 2021   \n",
              "22                                                 NaN  September 21, 2021   \n",
              "24                                               India  September 21, 2021   \n",
              "26                                                 NaN  September 21, 2021   \n",
              "114                                              India   September 2, 2021   \n",
              "\n",
              "     release_year rating duration  \\\n",
              "7            1993  TV-MA  125 min   \n",
              "22           1996  TV-PG  161 min   \n",
              "24           1998  TV-14  166 min   \n",
              "26           1997  TV-PG  147 min   \n",
              "114          1994  TV-14  143 min   \n",
              "\n",
              "                                            listed_in  \\\n",
              "7    Dramas, Independent Movies, International Movies   \n",
              "22                     Comedies, International Movies   \n",
              "24    Comedies, International Movies, Romantic Movies   \n",
              "26   Comedies, International Movies, Music & Musicals   \n",
              "114           Dramas, International Movies, Thrillers   \n",
              "\n",
              "                                           description  \n",
              "7    On a photo shoot in Ghana, an American model s...  \n",
              "22   Newly divorced and denied visitation rights wi...  \n",
              "24   When the father of the man she loves insists t...  \n",
              "26   A tangled love triangle ensues when a man fall...  \n",
              "114  A wealthy industrialist’s dangerous obsession ...  "
            ]
          },
          "execution_count": 11,
          "metadata": {},
          "output_type": "execute_result"
        }
      ],
      "source": [
        "data[\"release_year\"] = pd.to_numeric(data[\"release_year\"], errors=\"coerce\")\n",
        "df_90s = data[(data[\"release_year\"] >= 1990) & (data[\"release_year\"] < 2000) & (data[\"type\"] == \"Movie\")]\n",
        "df_90s.head()"
      ]
    },
    {
      "cell_type": "code",
      "execution_count": null,
      "metadata": {
        "colab": {
          "base_uri": "https://localhost:8080/",
          "height": 594
        },
        "id": "KTFa2OPL3Z3w",
        "outputId": "cf86c120-9669-41a5-f07b-fec7b394732b"
      },
      "outputs": [
        {
          "name": "stderr",
          "output_type": "stream",
          "text": [
            "C:\\Users\\Omar Elgema3y\\AppData\\Local\\Temp\\ipykernel_17304\\398895967.py:2: FutureWarning: \n",
            "\n",
            "Passing `palette` without assigning `hue` is deprecated and will be removed in v0.14.0. Assign the `x` variable to `hue` and set `legend=False` for the same effect.\n",
            "\n",
            "  sns.countplot(data=df_90s, x=\"release_year\", palette=\"coolwarm\")\n"
          ]
        },
        {
          "data": {
            "image/png": "[encoded data removed]",
            "text/plain": [
              "<Figure size 1500x500 with 1 Axes>"
            ]
          },
          "metadata": {},
          "output_type": "display_data"
        }
      ],
      "source": [
        "plt.figure(figsize=(15,5))\n",
        "sns.countplot(data=df_90s, x=\"release_year\", palette=\"coolwarm\")\n",
        "plt.title(\"Number of Movies Released Each Year in the 1990s\")\n",
        "plt.xlabel(\"Year\")\n",
        "plt.ylabel(\"Count\")\n",
        "plt.show()"
      ]
    },
    {
      "cell_type": "code",
      "execution_count": 13,
      "metadata": {
        "colab": {
          "base_uri": "https://localhost:8080/",
          "height": 449
        },
        "id": "SwFa-XBGzxEy",
        "outputId": "54dc7441-48f8-4df1-c861-b366b2631e3d"
      },
      "outputs": [
        {
          "data": {
            "application/vnd.microsoft.datawrangler.viewer.v0+json": {
              "columns": [
                {
                  "name": "index",
                  "rawType": "int64",
                  "type": "integer"
                },
                {
                  "name": "show_id",
                  "rawType": "object",
                  "type": "string"
                },
                {
                  "name": "type",
                  "rawType": "object",
                  "type": "string"
                },
                {
                  "name": "title",
                  "rawType": "object",
                  "type": "string"
                },
                {
                  "name": "director",
                  "rawType": "object",
                  "type": "string"
                },
                {
                  "name": "cast",
                  "rawType": "object",
                  "type": "string"
                },
                {
                  "name": "country",
                  "rawType": "object",
                  "type": "string"
                },
                {
                  "name": "date_added",
                  "rawType": "object",
                  "type": "string"
                },
                {
                  "name": "release_year",
                  "rawType": "int64",
                  "type": "integer"
                },
                {
                  "name": "rating",
                  "rawType": "object",
                  "type": "string"
                },
                {
                  "name": "duration",
                  "rawType": "object",
                  "type": "string"
                },
                {
                  "name": "listed_in",
                  "rawType": "object",
                  "type": "string"
                },
                {
                  "name": "description",
                  "rawType": "object",
                  "type": "string"
                }
              ],
              "conversionMethod": "pd.DataFrame",
              "ref": "fc99bbbf-41a1-4f8a-9a90-afd28b7c38ba",
              "rows": [
                [
                  "48",
                  "s49",
                  "Movie",
                  "Training Day",
                  "Antoine Fuqua",
                  "Denzel Washington, Ethan Hawke, Scott Glenn, Tom Berenger, Harris Yulin, Raymond J. Barry, Cliff Curtis, Dr. Dre, Snoop Dogg, Macy Gray, Eva Mendes",
                  "United States",
                  "September 16, 2021",
                  "2001",
                  "R",
                  "122 min",
                  "Dramas, Thrillers",
                  "A rookie cop with one day to prove himself to a veteran LAPD narcotics officer receives a crash course in his mentor's questionable brand of justice."
                ],
                [
                  "51",
                  "s52",
                  "Movie",
                  "InuYasha the Movie 2: The Castle Beyond the Looking Glass",
                  "Toshiya Shinohara",
                  "Kappei Yamaguchi, Satsuki Yukino, Mieko Harada, Koji Tsujitani, Houko Kuwashima, Kumiko Watanabe, Noriko Hidaka, Kenichi Ogata, Toshiyuki Morikawa, Izumi Ogami",
                  "Japan",
                  "September 15, 2021",
                  "2002",
                  "TV-14",
                  "99 min",
                  "Action & Adventure, Anime Features, International Movies",
                  "With their biggest foe seemingly defeated, InuYasha and his friends return to everyday life. But the peace is soon shattered by an emerging new enemy."
                ],
                [
                  "52",
                  "s53",
                  "Movie",
                  "InuYasha the Movie 3: Swords of an Honorable Ruler",
                  "Toshiya Shinohara",
                  "Kappei Yamaguchi, Satsuki Yukino, Koji Tsujitani, Houko Kuwashima, Kumiko Watanabe, Ken Narita, Akio Otsuka, Kikuko Inoue",
                  "Japan",
                  "September 15, 2021",
                  "2003",
                  "TV-14",
                  "99 min",
                  "Action & Adventure, Anime Features, International Movies",
                  "The Great Dog Demon beaqueathed one of the Three Swords of the Fang to each of his two sons. Now the evil power of the third sword has been awakened."
                ],
                [
                  "53",
                  "s54",
                  "Movie",
                  "InuYasha the Movie 4: Fire on the Mystic Island",
                  "Toshiya Shinohara",
                  "Kappei Yamaguchi, Satsuki Yukino, Koji Tsujitani, Houko Kuwashima, Kumiko Watanabe, Noriko Hidaka, Ken Narita, Cho, Mamiko Noto, Nobutoshi Canna",
                  "Japan",
                  "September 15, 2021",
                  "2004",
                  "TV-PG",
                  "88 min",
                  "Action & Adventure, Anime Features, International Movies",
                  "Ai, a young half-demon who has escaped from Horai Island to try to help her people, returns with potential saviors InuYasha, Sesshomaru and Kikyo."
                ],
                [
                  "54",
                  "s55",
                  "Movie",
                  "InuYasha the Movie: Affections Touching Across Time",
                  "Toshiya Shinohara",
                  "Kappei Yamaguchi, Satsuki Yukino, Koji Tsujitani, Houko Kuwashima, Kumiko Watanabe, Kenichi Ogata, Noriko Hidaka, Hisako Kyoda, Ken Narita, Tomokazu Seki",
                  "Japan",
                  "September 15, 2021",
                  "2001",
                  "TV-PG",
                  "100 min",
                  "Action & Adventure, Anime Features, International Movies",
                  "A powerful demon has been sealed away for 200 years. But when the demon's son is awakened, the fate of the world is in jeopardy."
                ]
              ],
              "shape": {
                "columns": 12,
                "rows": 5
              }
            },
            "text/html": [
              "<div>\n",
              "<style scoped>\n",
              "    .dataframe tbody tr th:only-of-type {\n",
              "        vertical-align: middle;\n",
              "    }\n",
              "\n",
              "    .dataframe tbody tr th {\n",
              "        vertical-align: top;\n",
              "    }\n",
              "\n",
              "    .dataframe thead th {\n",
              "        text-align: right;\n",
              "    }\n",
              "</style>\n",
              "<table border=\"1\" class=\"dataframe\">\n",
              "  <thead>\n",
              "    <tr style=\"text-align: right;\">\n",
              "      <th></th>\n",
              "      <th>show_id</th>\n",
              "      <th>type</th>\n",
              "      <th>title</th>\n",
              "      <th>director</th>\n",
              "      <th>cast</th>\n",
              "      <th>country</th>\n",
              "      <th>date_added</th>\n",
              "      <th>release_year</th>\n",
              "      <th>rating</th>\n",
              "      <th>duration</th>\n",
              "      <th>listed_in</th>\n",
              "      <th>description</th>\n",
              "    </tr>\n",
              "  </thead>\n",
              "  <tbody>\n",
              "    <tr>\n",
              "      <th>48</th>\n",
              "      <td>s49</td>\n",
              "      <td>Movie</td>\n",
              "      <td>Training Day</td>\n",
              "      <td>Antoine Fuqua</td>\n",
              "      <td>Denzel Washington, Ethan Hawke, Scott Glenn, T...</td>\n",
              "      <td>United States</td>\n",
              "      <td>September 16, 2021</td>\n",
              "      <td>2001</td>\n",
              "      <td>R</td>\n",
              "      <td>122 min</td>\n",
              "      <td>Dramas, Thrillers</td>\n",
              "      <td>A rookie cop with one day to prove himself to ...</td>\n",
              "    </tr>\n",
              "    <tr>\n",
              "      <th>51</th>\n",
              "      <td>s52</td>\n",
              "      <td>Movie</td>\n",
              "      <td>InuYasha the Movie 2: The Castle Beyond the Lo...</td>\n",
              "      <td>Toshiya Shinohara</td>\n",
              "      <td>Kappei Yamaguchi, Satsuki Yukino, Mieko Harada...</td>\n",
              "      <td>Japan</td>\n",
              "      <td>September 15, 2021</td>\n",
              "      <td>2002</td>\n",
              "      <td>TV-14</td>\n",
              "      <td>99 min</td>\n",
              "      <td>Action &amp; Adventure, Anime Features, Internatio...</td>\n",
              "      <td>With their biggest foe seemingly defeated, Inu...</td>\n",
              "    </tr>\n",
              "    <tr>\n",
              "      <th>52</th>\n",
              "      <td>s53</td>\n",
              "      <td>Movie</td>\n",
              "      <td>InuYasha the Movie 3: Swords of an Honorable R...</td>\n",
              "      <td>Toshiya Shinohara</td>\n",
              "      <td>Kappei Yamaguchi, Satsuki Yukino, Koji Tsujita...</td>\n",
              "      <td>Japan</td>\n",
              "      <td>September 15, 2021</td>\n",
              "      <td>2003</td>\n",
              "      <td>TV-14</td>\n",
              "      <td>99 min</td>\n",
              "      <td>Action &amp; Adventure, Anime Features, Internatio...</td>\n",
              "      <td>The Great Dog Demon beaqueathed one of the Thr...</td>\n",
              "    </tr>\n",
              "    <tr>\n",
              "      <th>53</th>\n",
              "      <td>s54</td>\n",
              "      <td>Movie</td>\n",
              "      <td>InuYasha the Movie 4: Fire on the Mystic Island</td>\n",
              "      <td>Toshiya Shinohara</td>\n",
              "      <td>Kappei Yamaguchi, Satsuki Yukino, Koji Tsujita...</td>\n",
              "      <td>Japan</td>\n",
              "      <td>September 15, 2021</td>\n",
              "      <td>2004</td>\n",
              "      <td>TV-PG</td>\n",
              "      <td>88 min</td>\n",
              "      <td>Action &amp; Adventure, Anime Features, Internatio...</td>\n",
              "      <td>Ai, a young half-demon who has escaped from Ho...</td>\n",
              "    </tr>\n",
              "    <tr>\n",
              "      <th>54</th>\n",
              "      <td>s55</td>\n",
              "      <td>Movie</td>\n",
              "      <td>InuYasha the Movie: Affections Touching Across...</td>\n",
              "      <td>Toshiya Shinohara</td>\n",
              "      <td>Kappei Yamaguchi, Satsuki Yukino, Koji Tsujita...</td>\n",
              "      <td>Japan</td>\n",
              "      <td>September 15, 2021</td>\n",
              "      <td>2001</td>\n",
              "      <td>TV-PG</td>\n",
              "      <td>100 min</td>\n",
              "      <td>Action &amp; Adventure, Anime Features, Internatio...</td>\n",
              "      <td>A powerful demon has been sealed away for 200 ...</td>\n",
              "    </tr>\n",
              "  </tbody>\n",
              "</table>\n",
              "</div>"
            ],
            "text/plain": [
              "   show_id   type                                              title  \\\n",
              "48     s49  Movie                                       Training Day   \n",
              "51     s52  Movie  InuYasha the Movie 2: The Castle Beyond the Lo...   \n",
              "52     s53  Movie  InuYasha the Movie 3: Swords of an Honorable R...   \n",
              "53     s54  Movie    InuYasha the Movie 4: Fire on the Mystic Island   \n",
              "54     s55  Movie  InuYasha the Movie: Affections Touching Across...   \n",
              "\n",
              "             director                                               cast  \\\n",
              "48      Antoine Fuqua  Denzel Washington, Ethan Hawke, Scott Glenn, T...   \n",
              "51  Toshiya Shinohara  Kappei Yamaguchi, Satsuki Yukino, Mieko Harada...   \n",
              "52  Toshiya Shinohara  Kappei Yamaguchi, Satsuki Yukino, Koji Tsujita...   \n",
              "53  Toshiya Shinohara  Kappei Yamaguchi, Satsuki Yukino, Koji Tsujita...   \n",
              "54  Toshiya Shinohara  Kappei Yamaguchi, Satsuki Yukino, Koji Tsujita...   \n",
              "\n",
              "          country          date_added  release_year rating duration  \\\n",
              "48  United States  September 16, 2021          2001      R  122 min   \n",
              "51          Japan  September 15, 2021          2002  TV-14   99 min   \n",
              "52          Japan  September 15, 2021          2003  TV-14   99 min   \n",
              "53          Japan  September 15, 2021          2004  TV-PG   88 min   \n",
              "54          Japan  September 15, 2021          2001  TV-PG  100 min   \n",
              "\n",
              "                                            listed_in  \\\n",
              "48                                  Dramas, Thrillers   \n",
              "51  Action & Adventure, Anime Features, Internatio...   \n",
              "52  Action & Adventure, Anime Features, Internatio...   \n",
              "53  Action & Adventure, Anime Features, Internatio...   \n",
              "54  Action & Adventure, Anime Features, Internatio...   \n",
              "\n",
              "                                          description  \n",
              "48  A rookie cop with one day to prove himself to ...  \n",
              "51  With their biggest foe seemingly defeated, Inu...  \n",
              "52  The Great Dog Demon beaqueathed one of the Thr...  \n",
              "53  Ai, a young half-demon who has escaped from Ho...  \n",
              "54  A powerful demon has been sealed away for 200 ...  "
            ]
          },
          "execution_count": 13,
          "metadata": {},
          "output_type": "execute_result"
        }
      ],
      "source": [
        "df_20s = data[(data[\"release_year\"] >= 2000) & (data[\"release_year\"] < 2010) & (data[\"type\"] == \"Movie\")]\n",
        "df_20s.head()"
      ]
    },
    {
      "cell_type": "code",
      "execution_count": 36,
      "metadata": {
        "colab": {
          "base_uri": "https://localhost:8080/",
          "height": 615
        },
        "id": "Qoen-8yW3hkY",
        "outputId": "4d26683f-9568-4df0-eeee-21f3014e545f"
      },
      "outputs": [
        {
          "name": "stderr",
          "output_type": "stream",
          "text": [
            "C:\\Users\\Omar Elgema3y\\AppData\\Local\\Temp\\ipykernel_17304\\2517358187.py:2: FutureWarning: \n",
            "\n",
            "Passing `palette` without assigning `hue` is deprecated and will be removed in v0.14.0. Assign the `x` variable to `hue` and set `legend=False` for the same effect.\n",
            "\n",
            "  sns.countplot(data=df_20s, x=\"release_year\", palette=\"magma\")\n"
          ]
        },
        {
          "data": {
            "image/png": "[encoded data removed]",
            "text/plain": [
              "<Figure size 1500x500 with 1 Axes>"
            ]
          },
          "metadata": {},
          "output_type": "display_data"
        }
      ],
      "source": [
        "plt.figure(figsize=(15,5))\n",
        "sns.countplot(data=df_20s, x=\"release_year\", palette=\"magma\")\n",
        "plt.title(\"Number of Movies Released Each Year in the 2000s\")\n",
        "plt.xlabel(\"Year\")\n",
        "plt.ylabel(\"Count\")\n",
        "plt.xticks(rotation=45)\n",
        "plt.show()\n"
      ]
    },
    {
      "cell_type": "markdown",
      "metadata": {
        "id": "EPmTmirc5Mzv"
      },
      "source": [
        "## Top 10 Most Frequent Directors"
      ]
    },
    {
      "cell_type": "code",
      "execution_count": 15,
      "metadata": {
        "colab": {
          "base_uri": "https://localhost:8080/",
          "height": 549
        },
        "id": "eRS76jdo5MXg",
        "outputId": "dafd774c-7644-4745-b83c-0ad03ba5ff69"
      },
      "outputs": [
        {
          "name": "stderr",
          "output_type": "stream",
          "text": [
            "C:\\Users\\Omar Elgema3y\\AppData\\Local\\Temp\\ipykernel_17304\\2871715686.py:4: FutureWarning: \n",
            "\n",
            "Passing `palette` without assigning `hue` is deprecated and will be removed in v0.14.0. Assign the `y` variable to `hue` and set `legend=False` for the same effect.\n",
            "\n",
            "  sns.barplot(x=top_directors.values, y=top_directors.index, palette=\"coolwarm\")\n"
          ]
        },
        {
          "data": {
            "image/png": "[encoded data removed]",
            "text/plain": [
              "<Figure size 1500x500 with 1 Axes>"
            ]
          },
          "metadata": {},
          "output_type": "display_data"
        }
      ],
      "source": [
        "top_directors = data[\"director\"].value_counts().head(10)\n",
        "\n",
        "plt.figure(figsize=(15,5))\n",
        "sns.barplot(x=top_directors.values, y=top_directors.index, palette=\"coolwarm\")\n",
        "plt.title(\"Top 10 Most Frequent Directors\")\n",
        "plt.xlabel(\"Number of Movies\")\n",
        "plt.ylabel(\"Director\")\n",
        "plt.show()\n"
      ]
    },
    {
      "cell_type": "markdown",
      "metadata": {
        "id": "0jVWO9mk6NJG"
      },
      "source": [
        "## Most Common Movie Ratings"
      ]
    },
    {
      "cell_type": "code",
      "execution_count": 16,
      "metadata": {
        "colab": {
          "base_uri": "https://localhost:8080/",
          "height": 592
        },
        "id": "BItG6QeQ6Jsn",
        "outputId": "cd65f6f1-dd84-4a7e-89bf-a1c8c62d2ecd"
      },
      "outputs": [
        {
          "name": "stderr",
          "output_type": "stream",
          "text": [
            "C:\\Users\\Omar Elgema3y\\AppData\\Local\\Temp\\ipykernel_17304\\4047976272.py:3: FutureWarning: \n",
            "\n",
            "Passing `palette` without assigning `hue` is deprecated and will be removed in v0.14.0. Assign the `x` variable to `hue` and set `legend=False` for the same effect.\n",
            "\n",
            "  sns.barplot(x=rating_counts.index, y=rating_counts.values, palette=\"coolwarm\")\n"
          ]
        },
        {
          "data": {
            "image/png": "[encoded data removed]",
            "text/plain": [
              "<Figure size 1500x500 with 1 Axes>"
            ]
          },
          "metadata": {},
          "output_type": "display_data"
        }
      ],
      "source": [
        "rating_counts = data[\"rating\"].value_counts().head(10)\n",
        "plt.figure(figsize=(15,5))\n",
        "sns.barplot(x=rating_counts.index, y=rating_counts.values, palette=\"coolwarm\")\n",
        "plt.title(\"Most Common Movie Ratings\")\n",
        "plt.xlabel(\"Rating\")\n",
        "plt.ylabel(\"Number of Movies\")\n",
        "plt.show()\n"
      ]
    },
    {
      "cell_type": "code",
      "execution_count": 17,
      "metadata": {
        "id": "UI84Rjx76-kW"
      },
      "outputs": [],
      "source": [
        "family_ratings = [\"G\", \"PG\", \"TV-G\", \"TV-Y\", \"TV-Y7\", \"TV-Y7-FV\"]\n",
        "r_ratings = [\"R\", \"TV-MA\", \"NC-17\"]\n",
        "family_movies = data[data[\"rating\"].isin(family_ratings)].shape[0]\n",
        "r_movies = data[data[\"rating\"].isin(r_ratings)].shape[0]\n",
        "other_movies = len(data) - (family_movies + r_movies)"
      ]
    },
    {
      "cell_type": "code",
      "execution_count": 18,
      "metadata": {
        "colab": {
          "base_uri": "https://localhost:8080/",
          "height": 428
        },
        "id": "OwXnESww6g52",
        "outputId": "0e04d473-17b0-44ff-b6fd-0bc36a67d922"
      },
      "outputs": [
        {
          "data": {
            "image/png": "[encoded data removed]",
            "text/plain": [
              "<Figure size 640x480 with 1 Axes>"
            ]
          },
          "metadata": {},
          "output_type": "display_data"
        }
      ],
      "source": [
        "labels = [\"Family Movies\", \"R-Rated Movies\", \"Other\"]\n",
        "sizes = [family_movies, r_movies, other_movies]\n",
        "plt.pie(sizes, labels=labels,autopct=\"%1.1f%%\")\n",
        "plt.title(\"Proportion of Family vs. R-Rated Movies\")\n",
        "plt.show()\n"
      ]
    }
  ],
  "metadata": {
    "colab": {
      "provenance": []
    },
    "kernelspec": {
      "display_name": "Python 3",
      "name": "python3"
    },
    "language_info": {
      "codemirror_mode": {
        "name": "ipython",
        "version": 3
      },
      "file_extension": ".py",
      "mimetype": "text/x-python",
      "name": "python",
      "nbconvert_exporter": "python",
      "pygments_lexer": "ipython3",
      "version": "3.11.0"
    }
  },
  "nbformat": 4,
  "nbformat_minor": 0
}
