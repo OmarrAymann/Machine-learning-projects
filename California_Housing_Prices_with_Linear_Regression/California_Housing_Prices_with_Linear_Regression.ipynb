{
  "cells": [
    {
      "cell_type": "markdown",
      "metadata": {
        "id": "2tiys70369Bd"
      },
      "source": [
        "# `01` Import Necessary Libraries"
      ]
    },
    {
      "cell_type": "markdown",
      "metadata": {
        "id": "UwHbrH6l9Y3A"
      },
      "source": [
        "## `i` Default Libraries"
      ]
    },
    {
      "cell_type": "code",
      "execution_count": 61,
      "metadata": {
        "id": "1tSITKud4F0n"
      },
      "outputs": [],
      "source": [
        "import numpy as np\n",
        "import pandas as pd\n",
        "import matplotlib.pyplot as plt\n",
        "import seaborn as sns\n",
        "from pathlib import Path\n",
        "import pandas as pd\n",
        "import tarfile\n",
        "import urllib.request"
      ]
    },
    {
      "cell_type": "markdown",
      "metadata": {
        "id": "4St58qO89bae"
      },
      "source": [
        "## `ii` Additional Libraries\n",
        "Add imports for additional libraries you used throughout the notebook"
      ]
    },
    {
      "cell_type": "code",
      "execution_count": 62,
      "metadata": {
        "id": "zipMCQxV9oic"
      },
      "outputs": [],
      "source": [
        "from sklearn.model_selection import train_test_split\n",
        "from sklearn.preprocessing import LabelEncoder\n",
        "from sklearn.impute import SimpleImputer\n",
        "from sklearn import linear_model\n",
        "from sklearn.metrics import r2_score,mean_absolute_error,mean_squared_error\n",
        "from sklearn.linear_model import LinearRegression\n",
        "from sklearn.linear_model import SGDRegressor\n",
        "from sklearn.model_selection import GridSearchCV\n",
        "from sklearn.linear_model import Lasso, Ridge\n",
        "from sklearn.preprocessing import StandardScaler , RobustScaler\n",
        "from sklearn.pipeline import Pipeline\n"
      ]
    },
    {
      "cell_type": "markdown",
      "metadata": {
        "id": "6Rp9SKDF7AsT"
      },
      "source": [
        "----------------------------\n",
        "\n",
        "# `02` Load Data"
      ]
    },
    {
      "cell_type": "code",
      "execution_count": 63,
      "metadata": {
        "id": "tqe9Lt1l7CX2"
      },
      "outputs": [],
      "source": [
        "def load_housing_data():\n",
        "    tarball_path = Path(\"datasets/housing.tgz\")\n",
        "    if not tarball_path.is_file():\n",
        "        Path(\"datasets\").mkdir(parents=True, exist_ok=True)\n",
        "        url = \"https://github.com/ageron/data/raw/main/housing.tgz\"\n",
        "        urllib.request.urlretrieve(url, tarball_path)\n",
        "        with tarfile.open(tarball_path) as housing_tarball:\n",
        "            housing_tarball.extractall(path=\"datasets\")\n",
        "    return pd.read_csv(Path(\"datasets/housing/housing.csv\"))\n",
        "\n",
        "housing = load_housing_data()"
      ]
    },
    {
      "cell_type": "code",
      "execution_count": 64,
      "metadata": {
        "colab": {
          "base_uri": "https://localhost:8080/",
          "height": 424
        },
        "id": "ysG7G766Qa_x",
        "outputId": "2f2150cd-ec54-41ed-9a30-57c659c8abe8"
      },
      "outputs": [
        {
          "data": {
            "application/vnd.microsoft.datawrangler.viewer.v0+json": {
              "columns": [
                {
                  "name": "index",
                  "rawType": "int64",
                  "type": "integer"
                },
                {
                  "name": "longitude",
                  "rawType": "float64",
                  "type": "float"
                },
                {
                  "name": "latitude",
                  "rawType": "float64",
                  "type": "float"
                },
                {
                  "name": "housing_median_age",
                  "rawType": "float64",
                  "type": "float"
                },
                {
                  "name": "total_rooms",
                  "rawType": "float64",
                  "type": "float"
                },
                {
                  "name": "total_bedrooms",
                  "rawType": "float64",
                  "type": "float"
                },
                {
                  "name": "population",
                  "rawType": "float64",
                  "type": "float"
                },
                {
                  "name": "households",
                  "rawType": "float64",
                  "type": "float"
                },
                {
                  "name": "median_income",
                  "rawType": "float64",
                  "type": "float"
                },
                {
                  "name": "median_house_value",
                  "rawType": "float64",
                  "type": "float"
                },
                {
                  "name": "ocean_proximity",
                  "rawType": "object",
                  "type": "string"
                }
              ],
              "conversionMethod": "pd.DataFrame",
              "ref": "9a34cc3a-64b5-4afe-aa2a-6e1ce38e3c9c",
              "rows": [
                [
                  "0",
                  "-122.23",
                  "37.88",
                  "41.0",
                  "880.0",
                  "129.0",
                  "322.0",
                  "126.0",
                  "8.3252",
                  "452600.0",
                  "NEAR BAY"
                ],
                [
                  "1",
                  "-122.22",
                  "37.86",
                  "21.0",
                  "7099.0",
                  "1106.0",
                  "2401.0",
                  "1138.0",
                  "8.3014",
                  "358500.0",
                  "NEAR BAY"
                ],
                [
                  "2",
                  "-122.24",
                  "37.85",
                  "52.0",
                  "1467.0",
                  "190.0",
                  "496.0",
                  "177.0",
                  "7.2574",
                  "352100.0",
                  "NEAR BAY"
                ],
                [
                  "3",
                  "-122.25",
                  "37.85",
                  "52.0",
                  "1274.0",
                  "235.0",
                  "558.0",
                  "219.0",
                  "5.6431",
                  "341300.0",
                  "NEAR BAY"
                ],
                [
                  "4",
                  "-122.25",
                  "37.85",
                  "52.0",
                  "1627.0",
                  "280.0",
                  "565.0",
                  "259.0",
                  "3.8462",
                  "342200.0",
                  "NEAR BAY"
                ],
                [
                  "5",
                  "-122.25",
                  "37.85",
                  "52.0",
                  "919.0",
                  "213.0",
                  "413.0",
                  "193.0",
                  "4.0368",
                  "269700.0",
                  "NEAR BAY"
                ],
                [
                  "6",
                  "-122.25",
                  "37.84",
                  "52.0",
                  "2535.0",
                  "489.0",
                  "1094.0",
                  "514.0",
                  "3.6591",
                  "299200.0",
                  "NEAR BAY"
                ],
                [
                  "7",
                  "-122.25",
                  "37.84",
                  "52.0",
                  "3104.0",
                  "687.0",
                  "1157.0",
                  "647.0",
                  "3.12",
                  "241400.0",
                  "NEAR BAY"
                ],
                [
                  "8",
                  "-122.26",
                  "37.84",
                  "42.0",
                  "2555.0",
                  "665.0",
                  "1206.0",
                  "595.0",
                  "2.0804",
                  "226700.0",
                  "NEAR BAY"
                ],
                [
                  "9",
                  "-122.25",
                  "37.84",
                  "52.0",
                  "3549.0",
                  "707.0",
                  "1551.0",
                  "714.0",
                  "3.6912",
                  "261100.0",
                  "NEAR BAY"
                ],
                [
                  "10",
                  "-122.26",
                  "37.85",
                  "52.0",
                  "2202.0",
                  "434.0",
                  "910.0",
                  "402.0",
                  "3.2031",
                  "281500.0",
                  "NEAR BAY"
                ],
                [
                  "11",
                  "-122.26",
                  "37.85",
                  "52.0",
                  "3503.0",
                  "752.0",
                  "1504.0",
                  "734.0",
                  "3.2705",
                  "241800.0",
                  "NEAR BAY"
                ],
                [
                  "12",
                  "-122.26",
                  "37.85",
                  "52.0",
                  "2491.0",
                  "474.0",
                  "1098.0",
                  "468.0",
                  "3.075",
                  "213500.0",
                  "NEAR BAY"
                ],
                [
                  "13",
                  "-122.26",
                  "37.84",
                  "52.0",
                  "696.0",
                  "191.0",
                  "345.0",
                  "174.0",
                  "2.6736",
                  "191300.0",
                  "NEAR BAY"
                ],
                [
                  "14",
                  "-122.26",
                  "37.85",
                  "52.0",
                  "2643.0",
                  "626.0",
                  "1212.0",
                  "620.0",
                  "1.9167",
                  "159200.0",
                  "NEAR BAY"
                ],
                [
                  "15",
                  "-122.26",
                  "37.85",
                  "50.0",
                  "1120.0",
                  "283.0",
                  "697.0",
                  "264.0",
                  "2.125",
                  "140000.0",
                  "NEAR BAY"
                ],
                [
                  "16",
                  "-122.27",
                  "37.85",
                  "52.0",
                  "1966.0",
                  "347.0",
                  "793.0",
                  "331.0",
                  "2.775",
                  "152500.0",
                  "NEAR BAY"
                ],
                [
                  "17",
                  "-122.27",
                  "37.85",
                  "52.0",
                  "1228.0",
                  "293.0",
                  "648.0",
                  "303.0",
                  "2.1202",
                  "155500.0",
                  "NEAR BAY"
                ],
                [
                  "18",
                  "-122.26",
                  "37.84",
                  "50.0",
                  "2239.0",
                  "455.0",
                  "990.0",
                  "419.0",
                  "1.9911",
                  "158700.0",
                  "NEAR BAY"
                ],
                [
                  "19",
                  "-122.27",
                  "37.84",
                  "52.0",
                  "1503.0",
                  "298.0",
                  "690.0",
                  "275.0",
                  "2.6033",
                  "162900.0",
                  "NEAR BAY"
                ],
                [
                  "20",
                  "-122.27",
                  "37.85",
                  "40.0",
                  "751.0",
                  "184.0",
                  "409.0",
                  "166.0",
                  "1.3578",
                  "147500.0",
                  "NEAR BAY"
                ],
                [
                  "21",
                  "-122.27",
                  "37.85",
                  "42.0",
                  "1639.0",
                  "367.0",
                  "929.0",
                  "366.0",
                  "1.7135",
                  "159800.0",
                  "NEAR BAY"
                ],
                [
                  "22",
                  "-122.27",
                  "37.84",
                  "52.0",
                  "2436.0",
                  "541.0",
                  "1015.0",
                  "478.0",
                  "1.725",
                  "113900.0",
                  "NEAR BAY"
                ],
                [
                  "23",
                  "-122.27",
                  "37.84",
                  "52.0",
                  "1688.0",
                  "337.0",
                  "853.0",
                  "325.0",
                  "2.1806",
                  "99700.0",
                  "NEAR BAY"
                ],
                [
                  "24",
                  "-122.27",
                  "37.84",
                  "52.0",
                  "2224.0",
                  "437.0",
                  "1006.0",
                  "422.0",
                  "2.6",
                  "132600.0",
                  "NEAR BAY"
                ],
                [
                  "25",
                  "-122.28",
                  "37.85",
                  "41.0",
                  "535.0",
                  "123.0",
                  "317.0",
                  "119.0",
                  "2.4038",
                  "107500.0",
                  "NEAR BAY"
                ],
                [
                  "26",
                  "-122.28",
                  "37.85",
                  "49.0",
                  "1130.0",
                  "244.0",
                  "607.0",
                  "239.0",
                  "2.4597",
                  "93800.0",
                  "NEAR BAY"
                ],
                [
                  "27",
                  "-122.28",
                  "37.85",
                  "52.0",
                  "1898.0",
                  "421.0",
                  "1102.0",
                  "397.0",
                  "1.808",
                  "105500.0",
                  "NEAR BAY"
                ],
                [
                  "28",
                  "-122.28",
                  "37.84",
                  "50.0",
                  "2082.0",
                  "492.0",
                  "1131.0",
                  "473.0",
                  "1.6424",
                  "108900.0",
                  "NEAR BAY"
                ],
                [
                  "29",
                  "-122.28",
                  "37.84",
                  "52.0",
                  "729.0",
                  "160.0",
                  "395.0",
                  "155.0",
                  "1.6875",
                  "132000.0",
                  "NEAR BAY"
                ],
                [
                  "30",
                  "-122.28",
                  "37.84",
                  "49.0",
                  "1916.0",
                  "447.0",
                  "863.0",
                  "378.0",
                  "1.9274",
                  "122300.0",
                  "NEAR BAY"
                ],
                [
                  "31",
                  "-122.28",
                  "37.84",
                  "52.0",
                  "2153.0",
                  "481.0",
                  "1168.0",
                  "441.0",
                  "1.9615",
                  "115200.0",
                  "NEAR BAY"
                ],
                [
                  "32",
                  "-122.27",
                  "37.84",
                  "48.0",
                  "1922.0",
                  "409.0",
                  "1026.0",
                  "335.0",
                  "1.7969",
                  "110400.0",
                  "NEAR BAY"
                ],
                [
                  "33",
                  "-122.27",
                  "37.83",
                  "49.0",
                  "1655.0",
                  "366.0",
                  "754.0",
                  "329.0",
                  "1.375",
                  "104900.0",
                  "NEAR BAY"
                ],
                [
                  "34",
                  "-122.27",
                  "37.83",
                  "51.0",
                  "2665.0",
                  "574.0",
                  "1258.0",
                  "536.0",
                  "2.7303",
                  "109700.0",
                  "NEAR BAY"
                ],
                [
                  "35",
                  "-122.27",
                  "37.83",
                  "49.0",
                  "1215.0",
                  "282.0",
                  "570.0",
                  "264.0",
                  "1.4861",
                  "97200.0",
                  "NEAR BAY"
                ],
                [
                  "36",
                  "-122.27",
                  "37.83",
                  "48.0",
                  "1798.0",
                  "432.0",
                  "987.0",
                  "374.0",
                  "1.0972",
                  "104500.0",
                  "NEAR BAY"
                ],
                [
                  "37",
                  "-122.28",
                  "37.83",
                  "52.0",
                  "1511.0",
                  "390.0",
                  "901.0",
                  "403.0",
                  "1.4103",
                  "103900.0",
                  "NEAR BAY"
                ],
                [
                  "38",
                  "-122.26",
                  "37.83",
                  "52.0",
                  "1470.0",
                  "330.0",
                  "689.0",
                  "309.0",
                  "3.48",
                  "191400.0",
                  "NEAR BAY"
                ],
                [
                  "39",
                  "-122.26",
                  "37.83",
                  "52.0",
                  "2432.0",
                  "715.0",
                  "1377.0",
                  "696.0",
                  "2.5898",
                  "176000.0",
                  "NEAR BAY"
                ],
                [
                  "40",
                  "-122.26",
                  "37.83",
                  "52.0",
                  "1665.0",
                  "419.0",
                  "946.0",
                  "395.0",
                  "2.0978",
                  "155400.0",
                  "NEAR BAY"
                ],
                [
                  "41",
                  "-122.26",
                  "37.83",
                  "51.0",
                  "936.0",
                  "311.0",
                  "517.0",
                  "249.0",
                  "1.2852",
                  "150000.0",
                  "NEAR BAY"
                ],
                [
                  "42",
                  "-122.26",
                  "37.84",
                  "49.0",
                  "713.0",
                  "202.0",
                  "462.0",
                  "189.0",
                  "1.025",
                  "118800.0",
                  "NEAR BAY"
                ],
                [
                  "43",
                  "-122.26",
                  "37.84",
                  "52.0",
                  "950.0",
                  "202.0",
                  "467.0",
                  "198.0",
                  "3.9643",
                  "188800.0",
                  "NEAR BAY"
                ],
                [
                  "44",
                  "-122.26",
                  "37.83",
                  "52.0",
                  "1443.0",
                  "311.0",
                  "660.0",
                  "292.0",
                  "3.0125",
                  "184400.0",
                  "NEAR BAY"
                ],
                [
                  "45",
                  "-122.26",
                  "37.83",
                  "52.0",
                  "1656.0",
                  "420.0",
                  "718.0",
                  "382.0",
                  "2.6768",
                  "182300.0",
                  "NEAR BAY"
                ],
                [
                  "46",
                  "-122.26",
                  "37.83",
                  "50.0",
                  "1125.0",
                  "322.0",
                  "616.0",
                  "304.0",
                  "2.026",
                  "142500.0",
                  "NEAR BAY"
                ],
                [
                  "47",
                  "-122.27",
                  "37.82",
                  "43.0",
                  "1007.0",
                  "312.0",
                  "558.0",
                  "253.0",
                  "1.7348",
                  "137500.0",
                  "NEAR BAY"
                ],
                [
                  "48",
                  "-122.26",
                  "37.82",
                  "40.0",
                  "624.0",
                  "195.0",
                  "423.0",
                  "160.0",
                  "0.9506",
                  "187500.0",
                  "NEAR BAY"
                ],
                [
                  "49",
                  "-122.27",
                  "37.82",
                  "40.0",
                  "946.0",
                  "375.0",
                  "700.0",
                  "352.0",
                  "1.775",
                  "112500.0",
                  "NEAR BAY"
                ]
              ],
              "shape": {
                "columns": 10,
                "rows": 20640
              }
            },
            "text/html": [
              "<div>\n",
              "<style scoped>\n",
              "    .dataframe tbody tr th:only-of-type {\n",
              "        vertical-align: middle;\n",
              "    }\n",
              "\n",
              "    .dataframe tbody tr th {\n",
              "        vertical-align: top;\n",
              "    }\n",
              "\n",
              "    .dataframe thead th {\n",
              "        text-align: right;\n",
              "    }\n",
              "</style>\n",
              "<table border=\"1\" class=\"dataframe\">\n",
              "  <thead>\n",
              "    <tr style=\"text-align: right;\">\n",
              "      <th></th>\n",
              "      <th>longitude</th>\n",
              "      <th>latitude</th>\n",
              "      <th>housing_median_age</th>\n",
              "      <th>total_rooms</th>\n",
              "      <th>total_bedrooms</th>\n",
              "      <th>population</th>\n",
              "      <th>households</th>\n",
              "      <th>median_income</th>\n",
              "      <th>median_house_value</th>\n",
              "      <th>ocean_proximity</th>\n",
              "    </tr>\n",
              "  </thead>\n",
              "  <tbody>\n",
              "    <tr>\n",
              "      <th>0</th>\n",
              "      <td>-122.23</td>\n",
              "      <td>37.88</td>\n",
              "      <td>41.0</td>\n",
              "      <td>880.0</td>\n",
              "      <td>129.0</td>\n",
              "      <td>322.0</td>\n",
              "      <td>126.0</td>\n",
              "      <td>8.3252</td>\n",
              "      <td>452600.0</td>\n",
              "      <td>NEAR BAY</td>\n",
              "    </tr>\n",
              "    <tr>\n",
              "      <th>1</th>\n",
              "      <td>-122.22</td>\n",
              "      <td>37.86</td>\n",
              "      <td>21.0</td>\n",
              "      <td>7099.0</td>\n",
              "      <td>1106.0</td>\n",
              "      <td>2401.0</td>\n",
              "      <td>1138.0</td>\n",
              "      <td>8.3014</td>\n",
              "      <td>358500.0</td>\n",
              "      <td>NEAR BAY</td>\n",
              "    </tr>\n",
              "    <tr>\n",
              "      <th>2</th>\n",
              "      <td>-122.24</td>\n",
              "      <td>37.85</td>\n",
              "      <td>52.0</td>\n",
              "      <td>1467.0</td>\n",
              "      <td>190.0</td>\n",
              "      <td>496.0</td>\n",
              "      <td>177.0</td>\n",
              "      <td>7.2574</td>\n",
              "      <td>352100.0</td>\n",
              "      <td>NEAR BAY</td>\n",
              "    </tr>\n",
              "    <tr>\n",
              "      <th>3</th>\n",
              "      <td>-122.25</td>\n",
              "      <td>37.85</td>\n",
              "      <td>52.0</td>\n",
              "      <td>1274.0</td>\n",
              "      <td>235.0</td>\n",
              "      <td>558.0</td>\n",
              "      <td>219.0</td>\n",
              "      <td>5.6431</td>\n",
              "      <td>341300.0</td>\n",
              "      <td>NEAR BAY</td>\n",
              "    </tr>\n",
              "    <tr>\n",
              "      <th>4</th>\n",
              "      <td>-122.25</td>\n",
              "      <td>37.85</td>\n",
              "      <td>52.0</td>\n",
              "      <td>1627.0</td>\n",
              "      <td>280.0</td>\n",
              "      <td>565.0</td>\n",
              "      <td>259.0</td>\n",
              "      <td>3.8462</td>\n",
              "      <td>342200.0</td>\n",
              "      <td>NEAR BAY</td>\n",
              "    </tr>\n",
              "    <tr>\n",
              "      <th>...</th>\n",
              "      <td>...</td>\n",
              "      <td>...</td>\n",
              "      <td>...</td>\n",
              "      <td>...</td>\n",
              "      <td>...</td>\n",
              "      <td>...</td>\n",
              "      <td>...</td>\n",
              "      <td>...</td>\n",
              "      <td>...</td>\n",
              "      <td>...</td>\n",
              "    </tr>\n",
              "    <tr>\n",
              "      <th>20635</th>\n",
              "      <td>-121.09</td>\n",
              "      <td>39.48</td>\n",
              "      <td>25.0</td>\n",
              "      <td>1665.0</td>\n",
              "      <td>374.0</td>\n",
              "      <td>845.0</td>\n",
              "      <td>330.0</td>\n",
              "      <td>1.5603</td>\n",
              "      <td>78100.0</td>\n",
              "      <td>INLAND</td>\n",
              "    </tr>\n",
              "    <tr>\n",
              "      <th>20636</th>\n",
              "      <td>-121.21</td>\n",
              "      <td>39.49</td>\n",
              "      <td>18.0</td>\n",
              "      <td>697.0</td>\n",
              "      <td>150.0</td>\n",
              "      <td>356.0</td>\n",
              "      <td>114.0</td>\n",
              "      <td>2.5568</td>\n",
              "      <td>77100.0</td>\n",
              "      <td>INLAND</td>\n",
              "    </tr>\n",
              "    <tr>\n",
              "      <th>20637</th>\n",
              "      <td>-121.22</td>\n",
              "      <td>39.43</td>\n",
              "      <td>17.0</td>\n",
              "      <td>2254.0</td>\n",
              "      <td>485.0</td>\n",
              "      <td>1007.0</td>\n",
              "      <td>433.0</td>\n",
              "      <td>1.7000</td>\n",
              "      <td>92300.0</td>\n",
              "      <td>INLAND</td>\n",
              "    </tr>\n",
              "    <tr>\n",
              "      <th>20638</th>\n",
              "      <td>-121.32</td>\n",
              "      <td>39.43</td>\n",
              "      <td>18.0</td>\n",
              "      <td>1860.0</td>\n",
              "      <td>409.0</td>\n",
              "      <td>741.0</td>\n",
              "      <td>349.0</td>\n",
              "      <td>1.8672</td>\n",
              "      <td>84700.0</td>\n",
              "      <td>INLAND</td>\n",
              "    </tr>\n",
              "    <tr>\n",
              "      <th>20639</th>\n",
              "      <td>-121.24</td>\n",
              "      <td>39.37</td>\n",
              "      <td>16.0</td>\n",
              "      <td>2785.0</td>\n",
              "      <td>616.0</td>\n",
              "      <td>1387.0</td>\n",
              "      <td>530.0</td>\n",
              "      <td>2.3886</td>\n",
              "      <td>89400.0</td>\n",
              "      <td>INLAND</td>\n",
              "    </tr>\n",
              "  </tbody>\n",
              "</table>\n",
              "<p>20640 rows × 10 columns</p>\n",
              "</div>"
            ],
            "text/plain": [
              "       longitude  latitude  housing_median_age  total_rooms  total_bedrooms  \\\n",
              "0        -122.23     37.88                41.0        880.0           129.0   \n",
              "1        -122.22     37.86                21.0       7099.0          1106.0   \n",
              "2        -122.24     37.85                52.0       1467.0           190.0   \n",
              "3        -122.25     37.85                52.0       1274.0           235.0   \n",
              "4        -122.25     37.85                52.0       1627.0           280.0   \n",
              "...          ...       ...                 ...          ...             ...   \n",
              "20635    -121.09     39.48                25.0       1665.0           374.0   \n",
              "20636    -121.21     39.49                18.0        697.0           150.0   \n",
              "20637    -121.22     39.43                17.0       2254.0           485.0   \n",
              "20638    -121.32     39.43                18.0       1860.0           409.0   \n",
              "20639    -121.24     39.37                16.0       2785.0           616.0   \n",
              "\n",
              "       population  households  median_income  median_house_value  \\\n",
              "0           322.0       126.0         8.3252            452600.0   \n",
              "1          2401.0      1138.0         8.3014            358500.0   \n",
              "2           496.0       177.0         7.2574            352100.0   \n",
              "3           558.0       219.0         5.6431            341300.0   \n",
              "4           565.0       259.0         3.8462            342200.0   \n",
              "...           ...         ...            ...                 ...   \n",
              "20635       845.0       330.0         1.5603             78100.0   \n",
              "20636       356.0       114.0         2.5568             77100.0   \n",
              "20637      1007.0       433.0         1.7000             92300.0   \n",
              "20638       741.0       349.0         1.8672             84700.0   \n",
              "20639      1387.0       530.0         2.3886             89400.0   \n",
              "\n",
              "      ocean_proximity  \n",
              "0            NEAR BAY  \n",
              "1            NEAR BAY  \n",
              "2            NEAR BAY  \n",
              "3            NEAR BAY  \n",
              "4            NEAR BAY  \n",
              "...               ...  \n",
              "20635          INLAND  \n",
              "20636          INLAND  \n",
              "20637          INLAND  \n",
              "20638          INLAND  \n",
              "20639          INLAND  \n",
              "\n",
              "[20640 rows x 10 columns]"
            ]
          },
          "execution_count": 64,
          "metadata": {},
          "output_type": "execute_result"
        }
      ],
      "source": [
        "housing"
      ]
    },
    {
      "cell_type": "code",
      "execution_count": 65,
      "metadata": {},
      "outputs": [],
      "source": [
        "housing.drop(columns=[\"total_bedrooms\"], inplace=True)\n",
        "housing.dropna(inplace=True)"
      ]
    },
    {
      "cell_type": "markdown",
      "metadata": {
        "id": "Egwuc-Bb_aoL"
      },
      "source": [
        "## `*` Create Test Set\n",
        "\n",
        "Before exploring the data, let's split the data into training and test sets. You shouldn't touch the test set from this point furthur except for final model evaluation.\n",
        "\n",
        "Use:\n",
        "- `random_state` $= 1234$\n",
        "- `test_size` $= 0.2$"
      ]
    },
    {
      "cell_type": "code",
      "execution_count": 66,
      "metadata": {
        "colab": {
          "base_uri": "https://localhost:8080/",
          "height": 424
        },
        "id": "MkbKnE4zAOGX",
        "outputId": "6c831f3f-6f6e-4c38-fe54-56c7ec67a167"
      },
      "outputs": [],
      "source": [
        "X = housing.drop(\"median_house_value\", axis=1)\n",
        "y = housing[\"median_house_value\"]  \n",
        "\n",
        "x_train, x_test, y_train, y_test = train_test_split(X, y, test_size=0.2, random_state=1234)"
      ]
    },
    {
      "cell_type": "code",
      "execution_count": 67,
      "metadata": {},
      "outputs": [
        {
          "data": {
            "text/plain": [
              "((16512, 8), (4128, 8), (16512,), (4128,))"
            ]
          },
          "execution_count": 67,
          "metadata": {},
          "output_type": "execute_result"
        }
      ],
      "source": [
        "x_train.shape, x_test.shape, y_train.shape, y_test.shape"
      ]
    },
    {
      "cell_type": "markdown",
      "metadata": {
        "id": "tKlBv0YR90G3"
      },
      "source": [
        "----------------\n",
        "\n",
        "# `03` Exploratory Data Analysis (EDA)"
      ]
    },
    {
      "cell_type": "markdown",
      "metadata": {
        "id": "8k61ceWr_BL5"
      },
      "source": [
        "## `i` Simple Analysis\n",
        "\n",
        "Preview data, perform statistical data analysis and explore as much as needed to better understand the data set we're dealing with.\n",
        "\n",
        "`Note:` Feel free to look up EDA approaches online for inspiration (however you **must understand** everything and not copy paste)."
      ]
    },
    {
      "cell_type": "code",
      "execution_count": 68,
      "metadata": {
        "colab": {
          "base_uri": "https://localhost:8080/"
        },
        "id": "pM3JCzjH53sz",
        "outputId": "1d1626d7-1d00-471b-f30e-2cf688288e11"
      },
      "outputs": [
        {
          "name": "stdout",
          "output_type": "stream",
          "text": [
            "<class 'pandas.core.frame.DataFrame'>\n",
            "Index: 16512 entries, 17595 to 1318\n",
            "Data columns (total 8 columns):\n",
            " #   Column              Non-Null Count  Dtype  \n",
            "---  ------              --------------  -----  \n",
            " 0   longitude           16512 non-null  float64\n",
            " 1   latitude            16512 non-null  float64\n",
            " 2   housing_median_age  16512 non-null  float64\n",
            " 3   total_rooms         16512 non-null  float64\n",
            " 4   population          16512 non-null  float64\n",
            " 5   households          16512 non-null  float64\n",
            " 6   median_income       16512 non-null  float64\n",
            " 7   ocean_proximity     16512 non-null  object \n",
            "dtypes: float64(7), object(1)\n",
            "memory usage: 1.1+ MB\n"
          ]
        }
      ],
      "source": [
        "x_train.info()"
      ]
    },
    {
      "cell_type": "markdown",
      "metadata": {
        "id": "ybI935yRYY7m"
      },
      "source": [
        "### all data are numbers except ocean_proximity"
      ]
    },
    {
      "cell_type": "code",
      "execution_count": 69,
      "metadata": {
        "colab": {
          "base_uri": "https://localhost:8080/",
          "height": 424
        },
        "id": "QgdNRxmDYrlm",
        "outputId": "db775c39-e7b0-4d48-efcd-f4186ee0f580"
      },
      "outputs": [
        {
          "data": {
            "application/vnd.microsoft.datawrangler.viewer.v0+json": {
              "columns": [
                {
                  "name": "index",
                  "rawType": "int64",
                  "type": "integer"
                },
                {
                  "name": "ocean_proximity",
                  "rawType": "object",
                  "type": "string"
                },
                {
                  "name": "ocean_proximity_encoded",
                  "rawType": "int32",
                  "type": "integer"
                }
              ],
              "conversionMethod": "pd.DataFrame",
              "ref": "9e14c0ef-4159-49dd-8752-fa9f3f3cf70e",
              "rows": [
                [
                  "17595",
                  "INLAND",
                  "1"
                ],
                [
                  "6073",
                  "<1H OCEAN",
                  "0"
                ],
                [
                  "6251",
                  "INLAND",
                  "1"
                ],
                [
                  "3161",
                  "NEAR BAY",
                  "3"
                ],
                [
                  "1887",
                  "INLAND",
                  "1"
                ],
                [
                  "151",
                  "<1H OCEAN",
                  "0"
                ],
                [
                  "8888",
                  "NEAR OCEAN",
                  "4"
                ],
                [
                  "6273",
                  "NEAR BAY",
                  "3"
                ],
                [
                  "7383",
                  "INLAND",
                  "1"
                ],
                [
                  "19964",
                  "<1H OCEAN",
                  "0"
                ],
                [
                  "2586",
                  "NEAR OCEAN",
                  "4"
                ],
                [
                  "3066",
                  "NEAR BAY",
                  "3"
                ],
                [
                  "13403",
                  "<1H OCEAN",
                  "0"
                ],
                [
                  "3980",
                  "<1H OCEAN",
                  "0"
                ],
                [
                  "5701",
                  "NEAR OCEAN",
                  "4"
                ],
                [
                  "1059",
                  "<1H OCEAN",
                  "0"
                ],
                [
                  "20315",
                  "NEAR BAY",
                  "3"
                ],
                [
                  "7865",
                  "<1H OCEAN",
                  "0"
                ],
                [
                  "17942",
                  "NEAR BAY",
                  "3"
                ],
                [
                  "12361",
                  "NEAR BAY",
                  "3"
                ],
                [
                  "20619",
                  "INLAND",
                  "1"
                ],
                [
                  "4374",
                  "INLAND",
                  "1"
                ],
                [
                  "13600",
                  "<1H OCEAN",
                  "0"
                ],
                [
                  "17697",
                  "NEAR BAY",
                  "3"
                ],
                [
                  "12949",
                  "<1H OCEAN",
                  "0"
                ],
                [
                  "15771",
                  "INLAND",
                  "1"
                ],
                [
                  "5581",
                  "INLAND",
                  "1"
                ],
                [
                  "18606",
                  "NEAR BAY",
                  "3"
                ],
                [
                  "10177",
                  "INLAND",
                  "1"
                ],
                [
                  "8674",
                  "<1H OCEAN",
                  "0"
                ],
                [
                  "4053",
                  "INLAND",
                  "1"
                ],
                [
                  "16959",
                  "<1H OCEAN",
                  "0"
                ],
                [
                  "19354",
                  "<1H OCEAN",
                  "0"
                ],
                [
                  "5549",
                  "<1H OCEAN",
                  "0"
                ],
                [
                  "5521",
                  "INLAND",
                  "1"
                ],
                [
                  "3080",
                  "INLAND",
                  "1"
                ],
                [
                  "3564",
                  "NEAR OCEAN",
                  "4"
                ],
                [
                  "6759",
                  "<1H OCEAN",
                  "0"
                ],
                [
                  "4475",
                  "INLAND",
                  "1"
                ],
                [
                  "11779",
                  "NEAR OCEAN",
                  "4"
                ],
                [
                  "12698",
                  "INLAND",
                  "1"
                ],
                [
                  "15649",
                  "INLAND",
                  "1"
                ],
                [
                  "7276",
                  "INLAND",
                  "1"
                ],
                [
                  "8688",
                  "<1H OCEAN",
                  "0"
                ],
                [
                  "11003",
                  "<1H OCEAN",
                  "0"
                ],
                [
                  "13616",
                  "<1H OCEAN",
                  "0"
                ],
                [
                  "12329",
                  "INLAND",
                  "1"
                ],
                [
                  "16320",
                  "<1H OCEAN",
                  "0"
                ],
                [
                  "18867",
                  "NEAR OCEAN",
                  "4"
                ],
                [
                  "11982",
                  "NEAR OCEAN",
                  "4"
                ]
              ],
              "shape": {
                "columns": 2,
                "rows": 16512
              }
            },
            "text/html": [
              "<div>\n",
              "<style scoped>\n",
              "    .dataframe tbody tr th:only-of-type {\n",
              "        vertical-align: middle;\n",
              "    }\n",
              "\n",
              "    .dataframe tbody tr th {\n",
              "        vertical-align: top;\n",
              "    }\n",
              "\n",
              "    .dataframe thead th {\n",
              "        text-align: right;\n",
              "    }\n",
              "</style>\n",
              "<table border=\"1\" class=\"dataframe\">\n",
              "  <thead>\n",
              "    <tr style=\"text-align: right;\">\n",
              "      <th></th>\n",
              "      <th>ocean_proximity</th>\n",
              "      <th>ocean_proximity_encoded</th>\n",
              "    </tr>\n",
              "  </thead>\n",
              "  <tbody>\n",
              "    <tr>\n",
              "      <th>17595</th>\n",
              "      <td>INLAND</td>\n",
              "      <td>1</td>\n",
              "    </tr>\n",
              "    <tr>\n",
              "      <th>6073</th>\n",
              "      <td>&lt;1H OCEAN</td>\n",
              "      <td>0</td>\n",
              "    </tr>\n",
              "    <tr>\n",
              "      <th>6251</th>\n",
              "      <td>INLAND</td>\n",
              "      <td>1</td>\n",
              "    </tr>\n",
              "    <tr>\n",
              "      <th>3161</th>\n",
              "      <td>NEAR BAY</td>\n",
              "      <td>3</td>\n",
              "    </tr>\n",
              "    <tr>\n",
              "      <th>1887</th>\n",
              "      <td>INLAND</td>\n",
              "      <td>1</td>\n",
              "    </tr>\n",
              "    <tr>\n",
              "      <th>...</th>\n",
              "      <td>...</td>\n",
              "      <td>...</td>\n",
              "    </tr>\n",
              "    <tr>\n",
              "      <th>8222</th>\n",
              "      <td>INLAND</td>\n",
              "      <td>1</td>\n",
              "    </tr>\n",
              "    <tr>\n",
              "      <th>9449</th>\n",
              "      <td>INLAND</td>\n",
              "      <td>1</td>\n",
              "    </tr>\n",
              "    <tr>\n",
              "      <th>8471</th>\n",
              "      <td>&lt;1H OCEAN</td>\n",
              "      <td>0</td>\n",
              "    </tr>\n",
              "    <tr>\n",
              "      <th>17048</th>\n",
              "      <td>&lt;1H OCEAN</td>\n",
              "      <td>0</td>\n",
              "    </tr>\n",
              "    <tr>\n",
              "      <th>1318</th>\n",
              "      <td>INLAND</td>\n",
              "      <td>1</td>\n",
              "    </tr>\n",
              "  </tbody>\n",
              "</table>\n",
              "<p>16512 rows × 2 columns</p>\n",
              "</div>"
            ],
            "text/plain": [
              "      ocean_proximity  ocean_proximity_encoded\n",
              "17595          INLAND                        1\n",
              "6073        <1H OCEAN                        0\n",
              "6251           INLAND                        1\n",
              "3161         NEAR BAY                        3\n",
              "1887           INLAND                        1\n",
              "...               ...                      ...\n",
              "8222           INLAND                        1\n",
              "9449           INLAND                        1\n",
              "8471        <1H OCEAN                        0\n",
              "17048       <1H OCEAN                        0\n",
              "1318           INLAND                        1\n",
              "\n",
              "[16512 rows x 2 columns]"
            ]
          },
          "execution_count": 69,
          "metadata": {},
          "output_type": "execute_result"
        }
      ],
      "source": [
        "label_encoder = LabelEncoder()\n",
        "x_train['ocean_proximity_encoded'] = label_encoder.fit_transform(x_train['ocean_proximity'])\n",
        "x_train[['ocean_proximity','ocean_proximity_encoded']]"
      ]
    },
    {
      "cell_type": "code",
      "execution_count": 70,
      "metadata": {
        "id": "2qXGmc_waSQY"
      },
      "outputs": [],
      "source": [
        "# drop ocean_proximity\n",
        "x_train.drop('ocean_proximity', axis=1, inplace=True)"
      ]
    },
    {
      "cell_type": "code",
      "execution_count": 71,
      "metadata": {
        "colab": {
          "base_uri": "https://localhost:8080/",
          "height": 398
        },
        "id": "D1KkVkm1RTxJ",
        "outputId": "d06e3cb2-f6a9-4c49-8ab1-5728782f1359"
      },
      "outputs": [
        {
          "data": {
            "text/plain": [
              "longitude                  0\n",
              "latitude                   0\n",
              "housing_median_age         0\n",
              "total_rooms                0\n",
              "population                 0\n",
              "households                 0\n",
              "median_income              0\n",
              "ocean_proximity_encoded    0\n",
              "dtype: int64"
            ]
          },
          "execution_count": 71,
          "metadata": {},
          "output_type": "execute_result"
        }
      ],
      "source": [
        "x_train.isna().sum()"
      ]
    },
    {
      "cell_type": "code",
      "execution_count": 72,
      "metadata": {},
      "outputs": [
        {
          "data": {
            "text/plain": [
              "longitude             0\n",
              "latitude              0\n",
              "housing_median_age    0\n",
              "total_rooms           0\n",
              "population            0\n",
              "households            0\n",
              "median_income         0\n",
              "ocean_proximity       0\n",
              "dtype: int64"
            ]
          },
          "execution_count": 72,
          "metadata": {},
          "output_type": "execute_result"
        }
      ],
      "source": [
        "x_test.isna().sum()"
      ]
    },
    {
      "cell_type": "markdown",
      "metadata": {},
      "source": [
        "### NO duplicated Data"
      ]
    },
    {
      "cell_type": "code",
      "execution_count": 73,
      "metadata": {
        "colab": {
          "base_uri": "https://localhost:8080/"
        },
        "id": "ZqP9Xpd5RFBy",
        "outputId": "2fe8c382-85f0-4ad4-9369-aefb287d0533"
      },
      "outputs": [
        {
          "data": {
            "text/plain": [
              "0"
            ]
          },
          "execution_count": 73,
          "metadata": {},
          "output_type": "execute_result"
        }
      ],
      "source": [
        "x_train.duplicated().sum()"
      ]
    },
    {
      "cell_type": "code",
      "execution_count": 74,
      "metadata": {},
      "outputs": [
        {
          "data": {
            "text/plain": [
              "0"
            ]
          },
          "execution_count": 74,
          "metadata": {},
          "output_type": "execute_result"
        }
      ],
      "source": [
        "x_test.duplicated().sum()"
      ]
    },
    {
      "cell_type": "code",
      "execution_count": 75,
      "metadata": {
        "colab": {
          "base_uri": "https://localhost:8080/",
          "height": 300
        },
        "id": "ULhN0OREQ-kp",
        "outputId": "d270c10d-d651-48e8-e4ee-7a3bbdc528d9"
      },
      "outputs": [
        {
          "data": {
            "application/vnd.microsoft.datawrangler.viewer.v0+json": {
              "columns": [
                {
                  "name": "index",
                  "rawType": "object",
                  "type": "string"
                },
                {
                  "name": "longitude",
                  "rawType": "float64",
                  "type": "float"
                },
                {
                  "name": "latitude",
                  "rawType": "float64",
                  "type": "float"
                },
                {
                  "name": "housing_median_age",
                  "rawType": "float64",
                  "type": "float"
                },
                {
                  "name": "total_rooms",
                  "rawType": "float64",
                  "type": "float"
                },
                {
                  "name": "population",
                  "rawType": "float64",
                  "type": "float"
                },
                {
                  "name": "households",
                  "rawType": "float64",
                  "type": "float"
                },
                {
                  "name": "median_income",
                  "rawType": "float64",
                  "type": "float"
                },
                {
                  "name": "ocean_proximity_encoded",
                  "rawType": "float64",
                  "type": "float"
                }
              ],
              "conversionMethod": "pd.DataFrame",
              "ref": "0fbe2c3e-ec53-48fa-9432-67a36f40fc5e",
              "rows": [
                [
                  "count",
                  "16512.0",
                  "16512.0",
                  "16512.0",
                  "16512.0",
                  "16512.0",
                  "16512.0",
                  "16512.0",
                  "16512.0"
                ],
                [
                  "mean",
                  "-119.57629663275193",
                  "35.6409441618217",
                  "28.629299903100776",
                  "2634.3956516472867",
                  "1422.2265625",
                  "499.01459544573646",
                  "3.869582788275194",
                  "1.1730256782945736"
                ],
                [
                  "std",
                  "2.0083014444969542",
                  "2.1410254423795516",
                  "12.622546756316677",
                  "2195.3671939423098",
                  "1119.964665028907",
                  "383.1485072411009",
                  "1.8963950066477377",
                  "1.4222988937363052"
                ],
                [
                  "min",
                  "-124.35",
                  "32.54",
                  "1.0",
                  "2.0",
                  "3.0",
                  "1.0",
                  "0.4999",
                  "0.0"
                ],
                [
                  "25%",
                  "-121.8025",
                  "33.93",
                  "18.0",
                  "1452.75",
                  "786.0",
                  "280.0",
                  "2.5625",
                  "0.0"
                ],
                [
                  "50%",
                  "-118.5",
                  "34.26",
                  "29.0",
                  "2128.0",
                  "1166.0",
                  "410.0",
                  "3.5393999999999997",
                  "1.0"
                ],
                [
                  "75%",
                  "-118.01",
                  "37.72",
                  "37.0",
                  "3138.25",
                  "1720.0",
                  "603.0",
                  "4.74835",
                  "1.0"
                ],
                [
                  "max",
                  "-114.31",
                  "41.95",
                  "52.0",
                  "39320.0",
                  "28566.0",
                  "6082.0",
                  "15.0001",
                  "4.0"
                ]
              ],
              "shape": {
                "columns": 8,
                "rows": 8
              }
            },
            "text/html": [
              "<div>\n",
              "<style scoped>\n",
              "    .dataframe tbody tr th:only-of-type {\n",
              "        vertical-align: middle;\n",
              "    }\n",
              "\n",
              "    .dataframe tbody tr th {\n",
              "        vertical-align: top;\n",
              "    }\n",
              "\n",
              "    .dataframe thead th {\n",
              "        text-align: right;\n",
              "    }\n",
              "</style>\n",
              "<table border=\"1\" class=\"dataframe\">\n",
              "  <thead>\n",
              "    <tr style=\"text-align: right;\">\n",
              "      <th></th>\n",
              "      <th>longitude</th>\n",
              "      <th>latitude</th>\n",
              "      <th>housing_median_age</th>\n",
              "      <th>total_rooms</th>\n",
              "      <th>population</th>\n",
              "      <th>households</th>\n",
              "      <th>median_income</th>\n",
              "      <th>ocean_proximity_encoded</th>\n",
              "    </tr>\n",
              "  </thead>\n",
              "  <tbody>\n",
              "    <tr>\n",
              "      <th>count</th>\n",
              "      <td>16512.000000</td>\n",
              "      <td>16512.000000</td>\n",
              "      <td>16512.000000</td>\n",
              "      <td>16512.000000</td>\n",
              "      <td>16512.000000</td>\n",
              "      <td>16512.000000</td>\n",
              "      <td>16512.000000</td>\n",
              "      <td>16512.000000</td>\n",
              "    </tr>\n",
              "    <tr>\n",
              "      <th>mean</th>\n",
              "      <td>-119.576297</td>\n",
              "      <td>35.640944</td>\n",
              "      <td>28.629300</td>\n",
              "      <td>2634.395652</td>\n",
              "      <td>1422.226562</td>\n",
              "      <td>499.014595</td>\n",
              "      <td>3.869583</td>\n",
              "      <td>1.173026</td>\n",
              "    </tr>\n",
              "    <tr>\n",
              "      <th>std</th>\n",
              "      <td>2.008301</td>\n",
              "      <td>2.141025</td>\n",
              "      <td>12.622547</td>\n",
              "      <td>2195.367194</td>\n",
              "      <td>1119.964665</td>\n",
              "      <td>383.148507</td>\n",
              "      <td>1.896395</td>\n",
              "      <td>1.422299</td>\n",
              "    </tr>\n",
              "    <tr>\n",
              "      <th>min</th>\n",
              "      <td>-124.350000</td>\n",
              "      <td>32.540000</td>\n",
              "      <td>1.000000</td>\n",
              "      <td>2.000000</td>\n",
              "      <td>3.000000</td>\n",
              "      <td>1.000000</td>\n",
              "      <td>0.499900</td>\n",
              "      <td>0.000000</td>\n",
              "    </tr>\n",
              "    <tr>\n",
              "      <th>25%</th>\n",
              "      <td>-121.802500</td>\n",
              "      <td>33.930000</td>\n",
              "      <td>18.000000</td>\n",
              "      <td>1452.750000</td>\n",
              "      <td>786.000000</td>\n",
              "      <td>280.000000</td>\n",
              "      <td>2.562500</td>\n",
              "      <td>0.000000</td>\n",
              "    </tr>\n",
              "    <tr>\n",
              "      <th>50%</th>\n",
              "      <td>-118.500000</td>\n",
              "      <td>34.260000</td>\n",
              "      <td>29.000000</td>\n",
              "      <td>2128.000000</td>\n",
              "      <td>1166.000000</td>\n",
              "      <td>410.000000</td>\n",
              "      <td>3.539400</td>\n",
              "      <td>1.000000</td>\n",
              "    </tr>\n",
              "    <tr>\n",
              "      <th>75%</th>\n",
              "      <td>-118.010000</td>\n",
              "      <td>37.720000</td>\n",
              "      <td>37.000000</td>\n",
              "      <td>3138.250000</td>\n",
              "      <td>1720.000000</td>\n",
              "      <td>603.000000</td>\n",
              "      <td>4.748350</td>\n",
              "      <td>1.000000</td>\n",
              "    </tr>\n",
              "    <tr>\n",
              "      <th>max</th>\n",
              "      <td>-114.310000</td>\n",
              "      <td>41.950000</td>\n",
              "      <td>52.000000</td>\n",
              "      <td>39320.000000</td>\n",
              "      <td>28566.000000</td>\n",
              "      <td>6082.000000</td>\n",
              "      <td>15.000100</td>\n",
              "      <td>4.000000</td>\n",
              "    </tr>\n",
              "  </tbody>\n",
              "</table>\n",
              "</div>"
            ],
            "text/plain": [
              "          longitude      latitude  housing_median_age   total_rooms  \\\n",
              "count  16512.000000  16512.000000        16512.000000  16512.000000   \n",
              "mean    -119.576297     35.640944           28.629300   2634.395652   \n",
              "std        2.008301      2.141025           12.622547   2195.367194   \n",
              "min     -124.350000     32.540000            1.000000      2.000000   \n",
              "25%     -121.802500     33.930000           18.000000   1452.750000   \n",
              "50%     -118.500000     34.260000           29.000000   2128.000000   \n",
              "75%     -118.010000     37.720000           37.000000   3138.250000   \n",
              "max     -114.310000     41.950000           52.000000  39320.000000   \n",
              "\n",
              "         population    households  median_income  ocean_proximity_encoded  \n",
              "count  16512.000000  16512.000000   16512.000000             16512.000000  \n",
              "mean    1422.226562    499.014595       3.869583                 1.173026  \n",
              "std     1119.964665    383.148507       1.896395                 1.422299  \n",
              "min        3.000000      1.000000       0.499900                 0.000000  \n",
              "25%      786.000000    280.000000       2.562500                 0.000000  \n",
              "50%     1166.000000    410.000000       3.539400                 1.000000  \n",
              "75%     1720.000000    603.000000       4.748350                 1.000000  \n",
              "max    28566.000000   6082.000000      15.000100                 4.000000  "
            ]
          },
          "execution_count": 75,
          "metadata": {},
          "output_type": "execute_result"
        }
      ],
      "source": [
        "x_train.describe()"
      ]
    },
    {
      "cell_type": "markdown",
      "metadata": {
        "id": "skTWjM-OA0Ta"
      },
      "source": [
        "## `ii` Visual Analysis\n",
        "\n",
        "Plot graphs and relations in order to gain more insights about the data set, identify patterns, and make assumptions.\n"
      ]
    },
    {
      "cell_type": "code",
      "execution_count": 76,
      "metadata": {},
      "outputs": [
        {
          "data": {
            "image/png": "[encoded data removed]",
            "text/plain": [
              "<Figure size 2000x2000 with 9 Axes>"
            ]
          },
          "metadata": {},
          "output_type": "display_data"
        }
      ],
      "source": [
        "housing.hist(bins=60,figsize=(20,20),color='blue', edgecolor='black')\n",
        "plt.show()"
      ]
    },
    {
      "cell_type": "code",
      "execution_count": 77,
      "metadata": {
        "colab": {
          "base_uri": "https://localhost:8080/",
          "height": 472
        },
        "id": "e5MOmFnCB0vK",
        "outputId": "e7c150f2-cd72-4768-d50c-619b307a063d"
      },
      "outputs": [
        {
          "data": {
            "image/png": "[encoded data removed]",
            "text/plain": [
              "<Figure size 640x480 with 1 Axes>"
            ]
          },
          "metadata": {},
          "output_type": "display_data"
        }
      ],
      "source": [
        "sns.histplot(housing['median_house_value'])\n",
        "plt.title('Distribution of Median House Value')\n",
        "plt.show();"
      ]
    },
    {
      "cell_type": "code",
      "execution_count": 78,
      "metadata": {
        "colab": {
          "base_uri": "https://localhost:8080/",
          "height": 472
        },
        "id": "z-zK6y6PUDIr",
        "outputId": "360ad752-a622-4eaf-fc64-ea6439b08403"
      },
      "outputs": [
        {
          "data": {
            "image/png": "[encoded data removed]",
            "text/plain": [
              "<Figure size 640x480 with 1 Axes>"
            ]
          },
          "metadata": {},
          "output_type": "display_data"
        }
      ],
      "source": [
        "sns.scatterplot(x='latitude', y='longitude', hue='median_house_value', data=housing, palette='viridis')\n",
        "plt.title('Geographical Distribution of House Prices')\n",
        "plt.show();"
      ]
    },
    {
      "cell_type": "markdown",
      "metadata": {
        "id": "CLUNCPUtbt7a"
      },
      "source": [
        "### the position of house has strong correlation with house price"
      ]
    },
    {
      "cell_type": "code",
      "execution_count": 79,
      "metadata": {
        "colab": {
          "base_uri": "https://localhost:8080/",
          "height": 620
        },
        "id": "GEs2XUYdVjU3",
        "outputId": "adcd0100-f760-491b-c762-723eaa073d75"
      },
      "outputs": [
        {
          "data": {
            "image/png": "[encoded data removed]",
            "text/plain": [
              "<Figure size 640x480 with 2 Axes>"
            ]
          },
          "metadata": {},
          "output_type": "display_data"
        }
      ],
      "source": [
        "corr_matrix = x_train.corr()\n",
        "sns.heatmap(corr_matrix,annot=True,cmap='coolwarm')\n",
        "plt.title('Correlation Matrix')\n",
        "plt.show()"
      ]
    },
    {
      "cell_type": "markdown",
      "metadata": {
        "id": "4G4h2cqgB2oS"
      },
      "source": [
        "----------------\n",
        "\n",
        "# `04` Data Preparation"
      ]
    },
    {
      "cell_type": "code",
      "execution_count": 80,
      "metadata": {},
      "outputs": [],
      "source": [
        "scaler = RobustScaler(with_centering=True, with_scaling=True)\n",
        "columns = x_train.columns\n",
        "index = x_train.index\n",
        "\n",
        "x_train_scaled = scaler.fit_transform(x_train)\n",
        "x_train = pd.DataFrame(x_train_scaled, columns=columns, index=index)"
      ]
    },
    {
      "cell_type": "markdown",
      "metadata": {
        "id": "H_wtV6UsDb86"
      },
      "source": [
        "## `*` Prepare Test Set\n",
        "\n",
        "Apply the data transformations you used on the training set to the test set.\n",
        "\n"
      ]
    },
    {
      "cell_type": "code",
      "execution_count": 81,
      "metadata": {},
      "outputs": [],
      "source": [
        "x_test['ocean_proximity_encoded'] = label_encoder.transform(x_test['ocean_proximity'])\n",
        "x_test[['ocean_proximity','ocean_proximity_encoded']]\n",
        "x_test.drop('ocean_proximity', axis=1, inplace=True)"
      ]
    },
    {
      "cell_type": "code",
      "execution_count": 82,
      "metadata": {},
      "outputs": [],
      "source": [
        "x_test_scaled = scaler.transform(x_test)\n",
        "x_test = pd.DataFrame(x_test_scaled, columns=x_test.columns, index=x_test.index)"
      ]
    },
    {
      "cell_type": "markdown",
      "metadata": {
        "id": "VOiwWZVTECzY"
      },
      "source": [
        "----------------------------\n",
        "\n",
        "# `05` Normal Equation\n"
      ]
    },
    {
      "cell_type": "markdown",
      "metadata": {
        "id": "J0q1-lPPFRkl"
      },
      "source": [
        "## `i` Model Training\n",
        "\n",
        "Initializing the model, fitting it to the training data, and get a fitted model."
      ]
    },
    {
      "cell_type": "code",
      "execution_count": 83,
      "metadata": {},
      "outputs": [
        {
          "data": {
            "text/plain": [
              "((16512, 8), (4128, 8), (16512,), (4128,))"
            ]
          },
          "execution_count": 83,
          "metadata": {},
          "output_type": "execute_result"
        }
      ],
      "source": [
        "x_train.shape, x_test.shape, y_train.shape, y_test.shape"
      ]
    },
    {
      "cell_type": "code",
      "execution_count": 84,
      "metadata": {},
      "outputs": [
        {
          "data": {
            "text/html": [
              "<style>#sk-container-id-1 {\n",
              "  /* Definition of color scheme common for light and dark mode */\n",
              "  --sklearn-color-text: #000;\n",
              "  --sklearn-color-text-muted: #666;\n",
              "  --sklearn-color-line: gray;\n",
              "  /* Definition of color scheme for unfitted estimators */\n",
              "  --sklearn-color-unfitted-level-0: #fff5e6;\n",
              "  --sklearn-color-unfitted-level-1: #f6e4d2;\n",
              "  --sklearn-color-unfitted-level-2: #ffe0b3;\n",
              "  --sklearn-color-unfitted-level-3: chocolate;\n",
              "  /* Definition of color scheme for fitted estimators */\n",
              "  --sklearn-color-fitted-level-0: #f0f8ff;\n",
              "  --sklearn-color-fitted-level-1: #d4ebff;\n",
              "  --sklearn-color-fitted-level-2: #b3dbfd;\n",
              "  --sklearn-color-fitted-level-3: cornflowerblue;\n",
              "\n",
              "  /* Specific color for light theme */\n",
              "  --sklearn-color-text-on-default-background: var(--sg-text-color, var(--theme-code-foreground, var(--jp-content-font-color1, black)));\n",
              "  --sklearn-color-background: var(--sg-background-color, var(--theme-background, var(--jp-layout-color0, white)));\n",
              "  --sklearn-color-border-box: var(--sg-text-color, var(--theme-code-foreground, var(--jp-content-font-color1, black)));\n",
              "  --sklearn-color-icon: #696969;\n",
              "\n",
              "  @media (prefers-color-scheme: dark) {\n",
              "    /* Redefinition of color scheme for dark theme */\n",
              "    --sklearn-color-text-on-default-background: var(--sg-text-color, var(--theme-code-foreground, var(--jp-content-font-color1, white)));\n",
              "    --sklearn-color-background: var(--sg-background-color, var(--theme-background, var(--jp-layout-color0, #111)));\n",
              "    --sklearn-color-border-box: var(--sg-text-color, var(--theme-code-foreground, var(--jp-content-font-color1, white)));\n",
              "    --sklearn-color-icon: #878787;\n",
              "  }\n",
              "}\n",
              "\n",
              "#sk-container-id-1 {\n",
              "  color: var(--sklearn-color-text);\n",
              "}\n",
              "\n",
              "#sk-container-id-1 pre {\n",
              "  padding: 0;\n",
              "}\n",
              "\n",
              "#sk-container-id-1 input.sk-hidden--visually {\n",
              "  border: 0;\n",
              "  clip: rect(1px 1px 1px 1px);\n",
              "  clip: rect(1px, 1px, 1px, 1px);\n",
              "  height: 1px;\n",
              "  margin: -1px;\n",
              "  overflow: hidden;\n",
              "  padding: 0;\n",
              "  position: absolute;\n",
              "  width: 1px;\n",
              "}\n",
              "\n",
              "#sk-container-id-1 div.sk-dashed-wrapped {\n",
              "  border: 1px dashed var(--sklearn-color-line);\n",
              "  margin: 0 0.4em 0.5em 0.4em;\n",
              "  box-sizing: border-box;\n",
              "  padding-bottom: 0.4em;\n",
              "  background-color: var(--sklearn-color-background);\n",
              "}\n",
              "\n",
              "#sk-container-id-1 div.sk-container {\n",
              "  /* jupyter's `normalize.less` sets `[hidden] { display: none; }`\n",
              "     but bootstrap.min.css set `[hidden] { display: none !important; }`\n",
              "     so we also need the `!important` here to be able to override the\n",
              "     default hidden behavior on the sphinx rendered scikit-learn.org.\n",
              "     See: https://github.com/scikit-learn/scikit-learn/issues/21755 */\n",
              "  display: inline-block !important;\n",
              "  position: relative;\n",
              "}\n",
              "\n",
              "#sk-container-id-1 div.sk-text-repr-fallback {\n",
              "  display: none;\n",
              "}\n",
              "\n",
              "div.sk-parallel-item,\n",
              "div.sk-serial,\n",
              "div.sk-item {\n",
              "  /* draw centered vertical line to link estimators */\n",
              "  background-image: linear-gradient(var(--sklearn-color-text-on-default-background), var(--sklearn-color-text-on-default-background));\n",
              "  background-size: 2px 100%;\n",
              "  background-repeat: no-repeat;\n",
              "  background-position: center center;\n",
              "}\n",
              "\n",
              "/* Parallel-specific style estimator block */\n",
              "\n",
              "#sk-container-id-1 div.sk-parallel-item::after {\n",
              "  content: \"\";\n",
              "  width: 100%;\n",
              "  border-bottom: 2px solid var(--sklearn-color-text-on-default-background);\n",
              "  flex-grow: 1;\n",
              "}\n",
              "\n",
              "#sk-container-id-1 div.sk-parallel {\n",
              "  display: flex;\n",
              "  align-items: stretch;\n",
              "  justify-content: center;\n",
              "  background-color: var(--sklearn-color-background);\n",
              "  position: relative;\n",
              "}\n",
              "\n",
              "#sk-container-id-1 div.sk-parallel-item {\n",
              "  display: flex;\n",
              "  flex-direction: column;\n",
              "}\n",
              "\n",
              "#sk-container-id-1 div.sk-parallel-item:first-child::after {\n",
              "  align-self: flex-end;\n",
              "  width: 50%;\n",
              "}\n",
              "\n",
              "#sk-container-id-1 div.sk-parallel-item:last-child::after {\n",
              "  align-self: flex-start;\n",
              "  width: 50%;\n",
              "}\n",
              "\n",
              "#sk-container-id-1 div.sk-parallel-item:only-child::after {\n",
              "  width: 0;\n",
              "}\n",
              "\n",
              "/* Serial-specific style estimator block */\n",
              "\n",
              "#sk-container-id-1 div.sk-serial {\n",
              "  display: flex;\n",
              "  flex-direction: column;\n",
              "  align-items: center;\n",
              "  background-color: var(--sklearn-color-background);\n",
              "  padding-right: 1em;\n",
              "  padding-left: 1em;\n",
              "}\n",
              "\n",
              "\n",
              "/* Toggleable style: style used for estimator/Pipeline/ColumnTransformer box that is\n",
              "clickable and can be expanded/collapsed.\n",
              "- Pipeline and ColumnTransformer use this feature and define the default style\n",
              "- Estimators will overwrite some part of the style using the `sk-estimator` class\n",
              "*/\n",
              "\n",
              "/* Pipeline and ColumnTransformer style (default) */\n",
              "\n",
              "#sk-container-id-1 div.sk-toggleable {\n",
              "  /* Default theme specific background. It is overwritten whether we have a\n",
              "  specific estimator or a Pipeline/ColumnTransformer */\n",
              "  background-color: var(--sklearn-color-background);\n",
              "}\n",
              "\n",
              "/* Toggleable label */\n",
              "#sk-container-id-1 label.sk-toggleable__label {\n",
              "  cursor: pointer;\n",
              "  display: flex;\n",
              "  width: 100%;\n",
              "  margin-bottom: 0;\n",
              "  padding: 0.5em;\n",
              "  box-sizing: border-box;\n",
              "  text-align: center;\n",
              "  align-items: start;\n",
              "  justify-content: space-between;\n",
              "  gap: 0.5em;\n",
              "}\n",
              "\n",
              "#sk-container-id-1 label.sk-toggleable__label .caption {\n",
              "  font-size: 0.6rem;\n",
              "  font-weight: lighter;\n",
              "  color: var(--sklearn-color-text-muted);\n",
              "}\n",
              "\n",
              "#sk-container-id-1 label.sk-toggleable__label-arrow:before {\n",
              "  /* Arrow on the left of the label */\n",
              "  content: \"▸\";\n",
              "  float: left;\n",
              "  margin-right: 0.25em;\n",
              "  color: var(--sklearn-color-icon);\n",
              "}\n",
              "\n",
              "#sk-container-id-1 label.sk-toggleable__label-arrow:hover:before {\n",
              "  color: var(--sklearn-color-text);\n",
              "}\n",
              "\n",
              "/* Toggleable content - dropdown */\n",
              "\n",
              "#sk-container-id-1 div.sk-toggleable__content {\n",
              "  max-height: 0;\n",
              "  max-width: 0;\n",
              "  overflow: hidden;\n",
              "  text-align: left;\n",
              "  /* unfitted */\n",
              "  background-color: var(--sklearn-color-unfitted-level-0);\n",
              "}\n",
              "\n",
              "#sk-container-id-1 div.sk-toggleable__content.fitted {\n",
              "  /* fitted */\n",
              "  background-color: var(--sklearn-color-fitted-level-0);\n",
              "}\n",
              "\n",
              "#sk-container-id-1 div.sk-toggleable__content pre {\n",
              "  margin: 0.2em;\n",
              "  border-radius: 0.25em;\n",
              "  color: var(--sklearn-color-text);\n",
              "  /* unfitted */\n",
              "  background-color: var(--sklearn-color-unfitted-level-0);\n",
              "}\n",
              "\n",
              "#sk-container-id-1 div.sk-toggleable__content.fitted pre {\n",
              "  /* unfitted */\n",
              "  background-color: var(--sklearn-color-fitted-level-0);\n",
              "}\n",
              "\n",
              "#sk-container-id-1 input.sk-toggleable__control:checked~div.sk-toggleable__content {\n",
              "  /* Expand drop-down */\n",
              "  max-height: 200px;\n",
              "  max-width: 100%;\n",
              "  overflow: auto;\n",
              "}\n",
              "\n",
              "#sk-container-id-1 input.sk-toggleable__control:checked~label.sk-toggleable__label-arrow:before {\n",
              "  content: \"▾\";\n",
              "}\n",
              "\n",
              "/* Pipeline/ColumnTransformer-specific style */\n",
              "\n",
              "#sk-container-id-1 div.sk-label input.sk-toggleable__control:checked~label.sk-toggleable__label {\n",
              "  color: var(--sklearn-color-text);\n",
              "  background-color: var(--sklearn-color-unfitted-level-2);\n",
              "}\n",
              "\n",
              "#sk-container-id-1 div.sk-label.fitted input.sk-toggleable__control:checked~label.sk-toggleable__label {\n",
              "  background-color: var(--sklearn-color-fitted-level-2);\n",
              "}\n",
              "\n",
              "/* Estimator-specific style */\n",
              "\n",
              "/* Colorize estimator box */\n",
              "#sk-container-id-1 div.sk-estimator input.sk-toggleable__control:checked~label.sk-toggleable__label {\n",
              "  /* unfitted */\n",
              "  background-color: var(--sklearn-color-unfitted-level-2);\n",
              "}\n",
              "\n",
              "#sk-container-id-1 div.sk-estimator.fitted input.sk-toggleable__control:checked~label.sk-toggleable__label {\n",
              "  /* fitted */\n",
              "  background-color: var(--sklearn-color-fitted-level-2);\n",
              "}\n",
              "\n",
              "#sk-container-id-1 div.sk-label label.sk-toggleable__label,\n",
              "#sk-container-id-1 div.sk-label label {\n",
              "  /* The background is the default theme color */\n",
              "  color: var(--sklearn-color-text-on-default-background);\n",
              "}\n",
              "\n",
              "/* On hover, darken the color of the background */\n",
              "#sk-container-id-1 div.sk-label:hover label.sk-toggleable__label {\n",
              "  color: var(--sklearn-color-text);\n",
              "  background-color: var(--sklearn-color-unfitted-level-2);\n",
              "}\n",
              "\n",
              "/* Label box, darken color on hover, fitted */\n",
              "#sk-container-id-1 div.sk-label.fitted:hover label.sk-toggleable__label.fitted {\n",
              "  color: var(--sklearn-color-text);\n",
              "  background-color: var(--sklearn-color-fitted-level-2);\n",
              "}\n",
              "\n",
              "/* Estimator label */\n",
              "\n",
              "#sk-container-id-1 div.sk-label label {\n",
              "  font-family: monospace;\n",
              "  font-weight: bold;\n",
              "  display: inline-block;\n",
              "  line-height: 1.2em;\n",
              "}\n",
              "\n",
              "#sk-container-id-1 div.sk-label-container {\n",
              "  text-align: center;\n",
              "}\n",
              "\n",
              "/* Estimator-specific */\n",
              "#sk-container-id-1 div.sk-estimator {\n",
              "  font-family: monospace;\n",
              "  border: 1px dotted var(--sklearn-color-border-box);\n",
              "  border-radius: 0.25em;\n",
              "  box-sizing: border-box;\n",
              "  margin-bottom: 0.5em;\n",
              "  /* unfitted */\n",
              "  background-color: var(--sklearn-color-unfitted-level-0);\n",
              "}\n",
              "\n",
              "#sk-container-id-1 div.sk-estimator.fitted {\n",
              "  /* fitted */\n",
              "  background-color: var(--sklearn-color-fitted-level-0);\n",
              "}\n",
              "\n",
              "/* on hover */\n",
              "#sk-container-id-1 div.sk-estimator:hover {\n",
              "  /* unfitted */\n",
              "  background-color: var(--sklearn-color-unfitted-level-2);\n",
              "}\n",
              "\n",
              "#sk-container-id-1 div.sk-estimator.fitted:hover {\n",
              "  /* fitted */\n",
              "  background-color: var(--sklearn-color-fitted-level-2);\n",
              "}\n",
              "\n",
              "/* Specification for estimator info (e.g. \"i\" and \"?\") */\n",
              "\n",
              "/* Common style for \"i\" and \"?\" */\n",
              "\n",
              ".sk-estimator-doc-link,\n",
              "a:link.sk-estimator-doc-link,\n",
              "a:visited.sk-estimator-doc-link {\n",
              "  float: right;\n",
              "  font-size: smaller;\n",
              "  line-height: 1em;\n",
              "  font-family: monospace;\n",
              "  background-color: var(--sklearn-color-background);\n",
              "  border-radius: 1em;\n",
              "  height: 1em;\n",
              "  width: 1em;\n",
              "  text-decoration: none !important;\n",
              "  margin-left: 0.5em;\n",
              "  text-align: center;\n",
              "  /* unfitted */\n",
              "  border: var(--sklearn-color-unfitted-level-1) 1pt solid;\n",
              "  color: var(--sklearn-color-unfitted-level-1);\n",
              "}\n",
              "\n",
              ".sk-estimator-doc-link.fitted,\n",
              "a:link.sk-estimator-doc-link.fitted,\n",
              "a:visited.sk-estimator-doc-link.fitted {\n",
              "  /* fitted */\n",
              "  border: var(--sklearn-color-fitted-level-1) 1pt solid;\n",
              "  color: var(--sklearn-color-fitted-level-1);\n",
              "}\n",
              "\n",
              "/* On hover */\n",
              "div.sk-estimator:hover .sk-estimator-doc-link:hover,\n",
              ".sk-estimator-doc-link:hover,\n",
              "div.sk-label-container:hover .sk-estimator-doc-link:hover,\n",
              ".sk-estimator-doc-link:hover {\n",
              "  /* unfitted */\n",
              "  background-color: var(--sklearn-color-unfitted-level-3);\n",
              "  color: var(--sklearn-color-background);\n",
              "  text-decoration: none;\n",
              "}\n",
              "\n",
              "div.sk-estimator.fitted:hover .sk-estimator-doc-link.fitted:hover,\n",
              ".sk-estimator-doc-link.fitted:hover,\n",
              "div.sk-label-container:hover .sk-estimator-doc-link.fitted:hover,\n",
              ".sk-estimator-doc-link.fitted:hover {\n",
              "  /* fitted */\n",
              "  background-color: var(--sklearn-color-fitted-level-3);\n",
              "  color: var(--sklearn-color-background);\n",
              "  text-decoration: none;\n",
              "}\n",
              "\n",
              "/* Span, style for the box shown on hovering the info icon */\n",
              ".sk-estimator-doc-link span {\n",
              "  display: none;\n",
              "  z-index: 9999;\n",
              "  position: relative;\n",
              "  font-weight: normal;\n",
              "  right: .2ex;\n",
              "  padding: .5ex;\n",
              "  margin: .5ex;\n",
              "  width: min-content;\n",
              "  min-width: 20ex;\n",
              "  max-width: 50ex;\n",
              "  color: var(--sklearn-color-text);\n",
              "  box-shadow: 2pt 2pt 4pt #999;\n",
              "  /* unfitted */\n",
              "  background: var(--sklearn-color-unfitted-level-0);\n",
              "  border: .5pt solid var(--sklearn-color-unfitted-level-3);\n",
              "}\n",
              "\n",
              ".sk-estimator-doc-link.fitted span {\n",
              "  /* fitted */\n",
              "  background: var(--sklearn-color-fitted-level-0);\n",
              "  border: var(--sklearn-color-fitted-level-3);\n",
              "}\n",
              "\n",
              ".sk-estimator-doc-link:hover span {\n",
              "  display: block;\n",
              "}\n",
              "\n",
              "/* \"?\"-specific style due to the `<a>` HTML tag */\n",
              "\n",
              "#sk-container-id-1 a.estimator_doc_link {\n",
              "  float: right;\n",
              "  font-size: 1rem;\n",
              "  line-height: 1em;\n",
              "  font-family: monospace;\n",
              "  background-color: var(--sklearn-color-background);\n",
              "  border-radius: 1rem;\n",
              "  height: 1rem;\n",
              "  width: 1rem;\n",
              "  text-decoration: none;\n",
              "  /* unfitted */\n",
              "  color: var(--sklearn-color-unfitted-level-1);\n",
              "  border: var(--sklearn-color-unfitted-level-1) 1pt solid;\n",
              "}\n",
              "\n",
              "#sk-container-id-1 a.estimator_doc_link.fitted {\n",
              "  /* fitted */\n",
              "  border: var(--sklearn-color-fitted-level-1) 1pt solid;\n",
              "  color: var(--sklearn-color-fitted-level-1);\n",
              "}\n",
              "\n",
              "/* On hover */\n",
              "#sk-container-id-1 a.estimator_doc_link:hover {\n",
              "  /* unfitted */\n",
              "  background-color: var(--sklearn-color-unfitted-level-3);\n",
              "  color: var(--sklearn-color-background);\n",
              "  text-decoration: none;\n",
              "}\n",
              "\n",
              "#sk-container-id-1 a.estimator_doc_link.fitted:hover {\n",
              "  /* fitted */\n",
              "  background-color: var(--sklearn-color-fitted-level-3);\n",
              "}\n",
              "</style><div id=\"sk-container-id-1\" class=\"sk-top-container\"><div class=\"sk-text-repr-fallback\"><pre>LinearRegression()</pre><b>In a Jupyter environment, please rerun this cell to show the HTML representation or trust the notebook. <br />On GitHub, the HTML representation is unable to render, please try loading this page with nbviewer.org.</b></div><div class=\"sk-container\" hidden><div class=\"sk-item\"><div class=\"sk-estimator fitted sk-toggleable\"><input class=\"sk-toggleable__control sk-hidden--visually\" id=\"sk-estimator-id-1\" type=\"checkbox\" checked><label for=\"sk-estimator-id-1\" class=\"sk-toggleable__label fitted sk-toggleable__label-arrow\"><div><div>LinearRegression</div></div><div><a class=\"sk-estimator-doc-link fitted\" rel=\"noreferrer\" target=\"_blank\" href=\"https://scikit-learn.org/1.6/modules/generated/sklearn.linear_model.LinearRegression.html\">?<span>Documentation for LinearRegression</span></a><span class=\"sk-estimator-doc-link fitted\">i<span>Fitted</span></span></div></label><div class=\"sk-toggleable__content fitted\"><pre>LinearRegression()</pre></div> </div></div></div></div>"
            ],
            "text/plain": [
              "LinearRegression()"
            ]
          },
          "execution_count": 84,
          "metadata": {},
          "output_type": "execute_result"
        }
      ],
      "source": [
        "lr = LinearRegression()\n",
        "lr.fit(x_train, y_train)"
      ]
    },
    {
      "cell_type": "code",
      "execution_count": 85,
      "metadata": {},
      "outputs": [],
      "source": [
        "y_pred = lr.predict(x_test)"
      ]
    },
    {
      "cell_type": "markdown",
      "metadata": {
        "id": "q6-TcS6DF2PG"
      },
      "source": [
        "## `ii` Model Evaluation\n",
        "\n",
        "Evaluate model performance using several metrics, e.g. **RMSE**, **MAE**, $R^2$. etc."
      ]
    },
    {
      "cell_type": "code",
      "execution_count": 86,
      "metadata": {
        "colab": {
          "base_uri": "https://localhost:8080/"
        },
        "id": "ZcrrEBqNGXHX",
        "outputId": "0ac67e21-a7d7-4e39-c1c5-c418e98c1c55"
      },
      "outputs": [
        {
          "name": "stdout",
          "output_type": "stream",
          "text": [
            "RMSE: 71253.12131160608\n"
          ]
        }
      ],
      "source": [
        "RMSE = mean_squared_error(y_test, y_pred)**0.5\n",
        "print(f'RMSE: {RMSE}')"
      ]
    },
    {
      "cell_type": "code",
      "execution_count": 87,
      "metadata": {
        "colab": {
          "base_uri": "https://localhost:8080/"
        },
        "id": "Kj4OP81r7qvL",
        "outputId": "81e5f3d6-1f58-43b9-a308-35bacb827c94"
      },
      "outputs": [
        {
          "name": "stdout",
          "output_type": "stream",
          "text": [
            "MAE: 51668.82661181424\n"
          ]
        }
      ],
      "source": [
        "MAE =mean_absolute_error(y_test, y_pred)\n",
        "print(f'MAE: {MAE}')"
      ]
    },
    {
      "cell_type": "code",
      "execution_count": 88,
      "metadata": {
        "colab": {
          "base_uri": "https://localhost:8080/"
        },
        "id": "0udP6FAN7q4U",
        "outputId": "20039c65-75ab-405d-aa70-f36753f623dc"
      },
      "outputs": [
        {
          "name": "stdout",
          "output_type": "stream",
          "text": [
            "R2: 0.6125284083097235\n"
          ]
        }
      ],
      "source": [
        "r2=r2_score(y_test, y_pred)\n",
        "print(f'R2: {r2}')"
      ]
    },
    {
      "cell_type": "markdown",
      "metadata": {
        "id": "byE8HWEnGX9T"
      },
      "source": [
        "----------------------\n",
        "\n",
        "# `06` Linear Regression with Gradient Descent\n",
        "\n",
        "Using `sklearn` implementation of linear regression to model the data.\n",
        "\n",
        "Hint: Look for `sklearn.linear_model.SGDRegressor` class."
      ]
    },
    {
      "cell_type": "markdown",
      "metadata": {
        "id": "1731lOYIHPNw"
      },
      "source": [
        "## `i` Baseline Model Training\n",
        "\n",
        "Initializing the model with initial parameters, fitting it to the training data, and get a baseline model.\n",
        "\n",
        "Use:\n",
        "- Non-regularized model.\n",
        "- Constant `learning_rate`"
      ]
    },
    {
      "cell_type": "code",
      "execution_count": 89,
      "metadata": {},
      "outputs": [
        {
          "data": {
            "text/html": [
              "<style>#sk-container-id-2 {\n",
              "  /* Definition of color scheme common for light and dark mode */\n",
              "  --sklearn-color-text: #000;\n",
              "  --sklearn-color-text-muted: #666;\n",
              "  --sklearn-color-line: gray;\n",
              "  /* Definition of color scheme for unfitted estimators */\n",
              "  --sklearn-color-unfitted-level-0: #fff5e6;\n",
              "  --sklearn-color-unfitted-level-1: #f6e4d2;\n",
              "  --sklearn-color-unfitted-level-2: #ffe0b3;\n",
              "  --sklearn-color-unfitted-level-3: chocolate;\n",
              "  /* Definition of color scheme for fitted estimators */\n",
              "  --sklearn-color-fitted-level-0: #f0f8ff;\n",
              "  --sklearn-color-fitted-level-1: #d4ebff;\n",
              "  --sklearn-color-fitted-level-2: #b3dbfd;\n",
              "  --sklearn-color-fitted-level-3: cornflowerblue;\n",
              "\n",
              "  /* Specific color for light theme */\n",
              "  --sklearn-color-text-on-default-background: var(--sg-text-color, var(--theme-code-foreground, var(--jp-content-font-color1, black)));\n",
              "  --sklearn-color-background: var(--sg-background-color, var(--theme-background, var(--jp-layout-color0, white)));\n",
              "  --sklearn-color-border-box: var(--sg-text-color, var(--theme-code-foreground, var(--jp-content-font-color1, black)));\n",
              "  --sklearn-color-icon: #696969;\n",
              "\n",
              "  @media (prefers-color-scheme: dark) {\n",
              "    /* Redefinition of color scheme for dark theme */\n",
              "    --sklearn-color-text-on-default-background: var(--sg-text-color, var(--theme-code-foreground, var(--jp-content-font-color1, white)));\n",
              "    --sklearn-color-background: var(--sg-background-color, var(--theme-background, var(--jp-layout-color0, #111)));\n",
              "    --sklearn-color-border-box: var(--sg-text-color, var(--theme-code-foreground, var(--jp-content-font-color1, white)));\n",
              "    --sklearn-color-icon: #878787;\n",
              "  }\n",
              "}\n",
              "\n",
              "#sk-container-id-2 {\n",
              "  color: var(--sklearn-color-text);\n",
              "}\n",
              "\n",
              "#sk-container-id-2 pre {\n",
              "  padding: 0;\n",
              "}\n",
              "\n",
              "#sk-container-id-2 input.sk-hidden--visually {\n",
              "  border: 0;\n",
              "  clip: rect(1px 1px 1px 1px);\n",
              "  clip: rect(1px, 1px, 1px, 1px);\n",
              "  height: 1px;\n",
              "  margin: -1px;\n",
              "  overflow: hidden;\n",
              "  padding: 0;\n",
              "  position: absolute;\n",
              "  width: 1px;\n",
              "}\n",
              "\n",
              "#sk-container-id-2 div.sk-dashed-wrapped {\n",
              "  border: 1px dashed var(--sklearn-color-line);\n",
              "  margin: 0 0.4em 0.5em 0.4em;\n",
              "  box-sizing: border-box;\n",
              "  padding-bottom: 0.4em;\n",
              "  background-color: var(--sklearn-color-background);\n",
              "}\n",
              "\n",
              "#sk-container-id-2 div.sk-container {\n",
              "  /* jupyter's `normalize.less` sets `[hidden] { display: none; }`\n",
              "     but bootstrap.min.css set `[hidden] { display: none !important; }`\n",
              "     so we also need the `!important` here to be able to override the\n",
              "     default hidden behavior on the sphinx rendered scikit-learn.org.\n",
              "     See: https://github.com/scikit-learn/scikit-learn/issues/21755 */\n",
              "  display: inline-block !important;\n",
              "  position: relative;\n",
              "}\n",
              "\n",
              "#sk-container-id-2 div.sk-text-repr-fallback {\n",
              "  display: none;\n",
              "}\n",
              "\n",
              "div.sk-parallel-item,\n",
              "div.sk-serial,\n",
              "div.sk-item {\n",
              "  /* draw centered vertical line to link estimators */\n",
              "  background-image: linear-gradient(var(--sklearn-color-text-on-default-background), var(--sklearn-color-text-on-default-background));\n",
              "  background-size: 2px 100%;\n",
              "  background-repeat: no-repeat;\n",
              "  background-position: center center;\n",
              "}\n",
              "\n",
              "/* Parallel-specific style estimator block */\n",
              "\n",
              "#sk-container-id-2 div.sk-parallel-item::after {\n",
              "  content: \"\";\n",
              "  width: 100%;\n",
              "  border-bottom: 2px solid var(--sklearn-color-text-on-default-background);\n",
              "  flex-grow: 1;\n",
              "}\n",
              "\n",
              "#sk-container-id-2 div.sk-parallel {\n",
              "  display: flex;\n",
              "  align-items: stretch;\n",
              "  justify-content: center;\n",
              "  background-color: var(--sklearn-color-background);\n",
              "  position: relative;\n",
              "}\n",
              "\n",
              "#sk-container-id-2 div.sk-parallel-item {\n",
              "  display: flex;\n",
              "  flex-direction: column;\n",
              "}\n",
              "\n",
              "#sk-container-id-2 div.sk-parallel-item:first-child::after {\n",
              "  align-self: flex-end;\n",
              "  width: 50%;\n",
              "}\n",
              "\n",
              "#sk-container-id-2 div.sk-parallel-item:last-child::after {\n",
              "  align-self: flex-start;\n",
              "  width: 50%;\n",
              "}\n",
              "\n",
              "#sk-container-id-2 div.sk-parallel-item:only-child::after {\n",
              "  width: 0;\n",
              "}\n",
              "\n",
              "/* Serial-specific style estimator block */\n",
              "\n",
              "#sk-container-id-2 div.sk-serial {\n",
              "  display: flex;\n",
              "  flex-direction: column;\n",
              "  align-items: center;\n",
              "  background-color: var(--sklearn-color-background);\n",
              "  padding-right: 1em;\n",
              "  padding-left: 1em;\n",
              "}\n",
              "\n",
              "\n",
              "/* Toggleable style: style used for estimator/Pipeline/ColumnTransformer box that is\n",
              "clickable and can be expanded/collapsed.\n",
              "- Pipeline and ColumnTransformer use this feature and define the default style\n",
              "- Estimators will overwrite some part of the style using the `sk-estimator` class\n",
              "*/\n",
              "\n",
              "/* Pipeline and ColumnTransformer style (default) */\n",
              "\n",
              "#sk-container-id-2 div.sk-toggleable {\n",
              "  /* Default theme specific background. It is overwritten whether we have a\n",
              "  specific estimator or a Pipeline/ColumnTransformer */\n",
              "  background-color: var(--sklearn-color-background);\n",
              "}\n",
              "\n",
              "/* Toggleable label */\n",
              "#sk-container-id-2 label.sk-toggleable__label {\n",
              "  cursor: pointer;\n",
              "  display: flex;\n",
              "  width: 100%;\n",
              "  margin-bottom: 0;\n",
              "  padding: 0.5em;\n",
              "  box-sizing: border-box;\n",
              "  text-align: center;\n",
              "  align-items: start;\n",
              "  justify-content: space-between;\n",
              "  gap: 0.5em;\n",
              "}\n",
              "\n",
              "#sk-container-id-2 label.sk-toggleable__label .caption {\n",
              "  font-size: 0.6rem;\n",
              "  font-weight: lighter;\n",
              "  color: var(--sklearn-color-text-muted);\n",
              "}\n",
              "\n",
              "#sk-container-id-2 label.sk-toggleable__label-arrow:before {\n",
              "  /* Arrow on the left of the label */\n",
              "  content: \"▸\";\n",
              "  float: left;\n",
              "  margin-right: 0.25em;\n",
              "  color: var(--sklearn-color-icon);\n",
              "}\n",
              "\n",
              "#sk-container-id-2 label.sk-toggleable__label-arrow:hover:before {\n",
              "  color: var(--sklearn-color-text);\n",
              "}\n",
              "\n",
              "/* Toggleable content - dropdown */\n",
              "\n",
              "#sk-container-id-2 div.sk-toggleable__content {\n",
              "  max-height: 0;\n",
              "  max-width: 0;\n",
              "  overflow: hidden;\n",
              "  text-align: left;\n",
              "  /* unfitted */\n",
              "  background-color: var(--sklearn-color-unfitted-level-0);\n",
              "}\n",
              "\n",
              "#sk-container-id-2 div.sk-toggleable__content.fitted {\n",
              "  /* fitted */\n",
              "  background-color: var(--sklearn-color-fitted-level-0);\n",
              "}\n",
              "\n",
              "#sk-container-id-2 div.sk-toggleable__content pre {\n",
              "  margin: 0.2em;\n",
              "  border-radius: 0.25em;\n",
              "  color: var(--sklearn-color-text);\n",
              "  /* unfitted */\n",
              "  background-color: var(--sklearn-color-unfitted-level-0);\n",
              "}\n",
              "\n",
              "#sk-container-id-2 div.sk-toggleable__content.fitted pre {\n",
              "  /* unfitted */\n",
              "  background-color: var(--sklearn-color-fitted-level-0);\n",
              "}\n",
              "\n",
              "#sk-container-id-2 input.sk-toggleable__control:checked~div.sk-toggleable__content {\n",
              "  /* Expand drop-down */\n",
              "  max-height: 200px;\n",
              "  max-width: 100%;\n",
              "  overflow: auto;\n",
              "}\n",
              "\n",
              "#sk-container-id-2 input.sk-toggleable__control:checked~label.sk-toggleable__label-arrow:before {\n",
              "  content: \"▾\";\n",
              "}\n",
              "\n",
              "/* Pipeline/ColumnTransformer-specific style */\n",
              "\n",
              "#sk-container-id-2 div.sk-label input.sk-toggleable__control:checked~label.sk-toggleable__label {\n",
              "  color: var(--sklearn-color-text);\n",
              "  background-color: var(--sklearn-color-unfitted-level-2);\n",
              "}\n",
              "\n",
              "#sk-container-id-2 div.sk-label.fitted input.sk-toggleable__control:checked~label.sk-toggleable__label {\n",
              "  background-color: var(--sklearn-color-fitted-level-2);\n",
              "}\n",
              "\n",
              "/* Estimator-specific style */\n",
              "\n",
              "/* Colorize estimator box */\n",
              "#sk-container-id-2 div.sk-estimator input.sk-toggleable__control:checked~label.sk-toggleable__label {\n",
              "  /* unfitted */\n",
              "  background-color: var(--sklearn-color-unfitted-level-2);\n",
              "}\n",
              "\n",
              "#sk-container-id-2 div.sk-estimator.fitted input.sk-toggleable__control:checked~label.sk-toggleable__label {\n",
              "  /* fitted */\n",
              "  background-color: var(--sklearn-color-fitted-level-2);\n",
              "}\n",
              "\n",
              "#sk-container-id-2 div.sk-label label.sk-toggleable__label,\n",
              "#sk-container-id-2 div.sk-label label {\n",
              "  /* The background is the default theme color */\n",
              "  color: var(--sklearn-color-text-on-default-background);\n",
              "}\n",
              "\n",
              "/* On hover, darken the color of the background */\n",
              "#sk-container-id-2 div.sk-label:hover label.sk-toggleable__label {\n",
              "  color: var(--sklearn-color-text);\n",
              "  background-color: var(--sklearn-color-unfitted-level-2);\n",
              "}\n",
              "\n",
              "/* Label box, darken color on hover, fitted */\n",
              "#sk-container-id-2 div.sk-label.fitted:hover label.sk-toggleable__label.fitted {\n",
              "  color: var(--sklearn-color-text);\n",
              "  background-color: var(--sklearn-color-fitted-level-2);\n",
              "}\n",
              "\n",
              "/* Estimator label */\n",
              "\n",
              "#sk-container-id-2 div.sk-label label {\n",
              "  font-family: monospace;\n",
              "  font-weight: bold;\n",
              "  display: inline-block;\n",
              "  line-height: 1.2em;\n",
              "}\n",
              "\n",
              "#sk-container-id-2 div.sk-label-container {\n",
              "  text-align: center;\n",
              "}\n",
              "\n",
              "/* Estimator-specific */\n",
              "#sk-container-id-2 div.sk-estimator {\n",
              "  font-family: monospace;\n",
              "  border: 1px dotted var(--sklearn-color-border-box);\n",
              "  border-radius: 0.25em;\n",
              "  box-sizing: border-box;\n",
              "  margin-bottom: 0.5em;\n",
              "  /* unfitted */\n",
              "  background-color: var(--sklearn-color-unfitted-level-0);\n",
              "}\n",
              "\n",
              "#sk-container-id-2 div.sk-estimator.fitted {\n",
              "  /* fitted */\n",
              "  background-color: var(--sklearn-color-fitted-level-0);\n",
              "}\n",
              "\n",
              "/* on hover */\n",
              "#sk-container-id-2 div.sk-estimator:hover {\n",
              "  /* unfitted */\n",
              "  background-color: var(--sklearn-color-unfitted-level-2);\n",
              "}\n",
              "\n",
              "#sk-container-id-2 div.sk-estimator.fitted:hover {\n",
              "  /* fitted */\n",
              "  background-color: var(--sklearn-color-fitted-level-2);\n",
              "}\n",
              "\n",
              "/* Specification for estimator info (e.g. \"i\" and \"?\") */\n",
              "\n",
              "/* Common style for \"i\" and \"?\" */\n",
              "\n",
              ".sk-estimator-doc-link,\n",
              "a:link.sk-estimator-doc-link,\n",
              "a:visited.sk-estimator-doc-link {\n",
              "  float: right;\n",
              "  font-size: smaller;\n",
              "  line-height: 1em;\n",
              "  font-family: monospace;\n",
              "  background-color: var(--sklearn-color-background);\n",
              "  border-radius: 1em;\n",
              "  height: 1em;\n",
              "  width: 1em;\n",
              "  text-decoration: none !important;\n",
              "  margin-left: 0.5em;\n",
              "  text-align: center;\n",
              "  /* unfitted */\n",
              "  border: var(--sklearn-color-unfitted-level-1) 1pt solid;\n",
              "  color: var(--sklearn-color-unfitted-level-1);\n",
              "}\n",
              "\n",
              ".sk-estimator-doc-link.fitted,\n",
              "a:link.sk-estimator-doc-link.fitted,\n",
              "a:visited.sk-estimator-doc-link.fitted {\n",
              "  /* fitted */\n",
              "  border: var(--sklearn-color-fitted-level-1) 1pt solid;\n",
              "  color: var(--sklearn-color-fitted-level-1);\n",
              "}\n",
              "\n",
              "/* On hover */\n",
              "div.sk-estimator:hover .sk-estimator-doc-link:hover,\n",
              ".sk-estimator-doc-link:hover,\n",
              "div.sk-label-container:hover .sk-estimator-doc-link:hover,\n",
              ".sk-estimator-doc-link:hover {\n",
              "  /* unfitted */\n",
              "  background-color: var(--sklearn-color-unfitted-level-3);\n",
              "  color: var(--sklearn-color-background);\n",
              "  text-decoration: none;\n",
              "}\n",
              "\n",
              "div.sk-estimator.fitted:hover .sk-estimator-doc-link.fitted:hover,\n",
              ".sk-estimator-doc-link.fitted:hover,\n",
              "div.sk-label-container:hover .sk-estimator-doc-link.fitted:hover,\n",
              ".sk-estimator-doc-link.fitted:hover {\n",
              "  /* fitted */\n",
              "  background-color: var(--sklearn-color-fitted-level-3);\n",
              "  color: var(--sklearn-color-background);\n",
              "  text-decoration: none;\n",
              "}\n",
              "\n",
              "/* Span, style for the box shown on hovering the info icon */\n",
              ".sk-estimator-doc-link span {\n",
              "  display: none;\n",
              "  z-index: 9999;\n",
              "  position: relative;\n",
              "  font-weight: normal;\n",
              "  right: .2ex;\n",
              "  padding: .5ex;\n",
              "  margin: .5ex;\n",
              "  width: min-content;\n",
              "  min-width: 20ex;\n",
              "  max-width: 50ex;\n",
              "  color: var(--sklearn-color-text);\n",
              "  box-shadow: 2pt 2pt 4pt #999;\n",
              "  /* unfitted */\n",
              "  background: var(--sklearn-color-unfitted-level-0);\n",
              "  border: .5pt solid var(--sklearn-color-unfitted-level-3);\n",
              "}\n",
              "\n",
              ".sk-estimator-doc-link.fitted span {\n",
              "  /* fitted */\n",
              "  background: var(--sklearn-color-fitted-level-0);\n",
              "  border: var(--sklearn-color-fitted-level-3);\n",
              "}\n",
              "\n",
              ".sk-estimator-doc-link:hover span {\n",
              "  display: block;\n",
              "}\n",
              "\n",
              "/* \"?\"-specific style due to the `<a>` HTML tag */\n",
              "\n",
              "#sk-container-id-2 a.estimator_doc_link {\n",
              "  float: right;\n",
              "  font-size: 1rem;\n",
              "  line-height: 1em;\n",
              "  font-family: monospace;\n",
              "  background-color: var(--sklearn-color-background);\n",
              "  border-radius: 1rem;\n",
              "  height: 1rem;\n",
              "  width: 1rem;\n",
              "  text-decoration: none;\n",
              "  /* unfitted */\n",
              "  color: var(--sklearn-color-unfitted-level-1);\n",
              "  border: var(--sklearn-color-unfitted-level-1) 1pt solid;\n",
              "}\n",
              "\n",
              "#sk-container-id-2 a.estimator_doc_link.fitted {\n",
              "  /* fitted */\n",
              "  border: var(--sklearn-color-fitted-level-1) 1pt solid;\n",
              "  color: var(--sklearn-color-fitted-level-1);\n",
              "}\n",
              "\n",
              "/* On hover */\n",
              "#sk-container-id-2 a.estimator_doc_link:hover {\n",
              "  /* unfitted */\n",
              "  background-color: var(--sklearn-color-unfitted-level-3);\n",
              "  color: var(--sklearn-color-background);\n",
              "  text-decoration: none;\n",
              "}\n",
              "\n",
              "#sk-container-id-2 a.estimator_doc_link.fitted:hover {\n",
              "  /* fitted */\n",
              "  background-color: var(--sklearn-color-fitted-level-3);\n",
              "}\n",
              "</style><div id=\"sk-container-id-2\" class=\"sk-top-container\"><div class=\"sk-text-repr-fallback\"><pre>SGDRegressor(learning_rate=&#x27;constant&#x27;, random_state=1234)</pre><b>In a Jupyter environment, please rerun this cell to show the HTML representation or trust the notebook. <br />On GitHub, the HTML representation is unable to render, please try loading this page with nbviewer.org.</b></div><div class=\"sk-container\" hidden><div class=\"sk-item\"><div class=\"sk-estimator fitted sk-toggleable\"><input class=\"sk-toggleable__control sk-hidden--visually\" id=\"sk-estimator-id-2\" type=\"checkbox\" checked><label for=\"sk-estimator-id-2\" class=\"sk-toggleable__label fitted sk-toggleable__label-arrow\"><div><div>SGDRegressor</div></div><div><a class=\"sk-estimator-doc-link fitted\" rel=\"noreferrer\" target=\"_blank\" href=\"https://scikit-learn.org/1.6/modules/generated/sklearn.linear_model.SGDRegressor.html\">?<span>Documentation for SGDRegressor</span></a><span class=\"sk-estimator-doc-link fitted\">i<span>Fitted</span></span></div></label><div class=\"sk-toggleable__content fitted\"><pre>SGDRegressor(learning_rate=&#x27;constant&#x27;, random_state=1234)</pre></div> </div></div></div></div>"
            ],
            "text/plain": [
              "SGDRegressor(learning_rate='constant', random_state=1234)"
            ]
          },
          "execution_count": 89,
          "metadata": {},
          "output_type": "execute_result"
        }
      ],
      "source": [
        "reg = SGDRegressor(random_state=1234, learning_rate='constant')\n",
        "reg.fit(x_train, y_train)"
      ]
    },
    {
      "cell_type": "code",
      "execution_count": 90,
      "metadata": {
        "colab": {
          "base_uri": "https://localhost:8080/"
        },
        "id": "GD1zBD2g9d1A",
        "outputId": "8e25f259-96e9-443e-aa71-c57fbd5df68e"
      },
      "outputs": [],
      "source": [
        "y_pred = reg.predict(x_test)"
      ]
    },
    {
      "cell_type": "markdown",
      "metadata": {
        "id": "p8iTFl8UHK1T"
      },
      "source": [
        "## `ii` Model Evaluation\n",
        "\n",
        "Evaluate the baseline model performance using several metrics, e.g. **RMSE**, **MAE**, $R^2$. etc."
      ]
    },
    {
      "cell_type": "code",
      "execution_count": 93,
      "metadata": {},
      "outputs": [
        {
          "name": "stdout",
          "output_type": "stream",
          "text": [
            "RMSE : 72373.95369649118\n"
          ]
        }
      ],
      "source": [
        "rmse = mean_squared_error(y_test, y_pred)**0.5\n",
        "print(f'RMSE : {rmse}')"
      ]
    },
    {
      "cell_type": "code",
      "execution_count": 94,
      "metadata": {},
      "outputs": [
        {
          "name": "stdout",
          "output_type": "stream",
          "text": [
            "MAE : 53677.76873355893\n"
          ]
        }
      ],
      "source": [
        "mae=mean_absolute_error(y_test, y_pred)\n",
        "print(f'MAE : {mae}')"
      ]
    },
    {
      "cell_type": "code",
      "execution_count": 95,
      "metadata": {},
      "outputs": [
        {
          "name": "stdout",
          "output_type": "stream",
          "text": [
            "R2 : 0.600242449185409\n"
          ]
        }
      ],
      "source": [
        "R2=r2_score(y_test, y_pred)\n",
        "print(f'R2 : {R2}')"
      ]
    },
    {
      "cell_type": "markdown",
      "metadata": {
        "id": "zFJUaZuDIH1j"
      },
      "source": [
        "## `iii` Tune `learning_rate`\n",
        "\n",
        "Try different `learning_rate` values and evaluate. What is the optimal learning rate?\n",
        "\n",
        "Hint: You might want to use `sklearn.model_selection.RandomizedSearchCV` or `sklearn.model_selection.GridSearchCV` classes."
      ]
    },
    {
      "cell_type": "code",
      "execution_count": null,
      "metadata": {},
      "outputs": [
        {
          "name": "stdout",
          "output_type": "stream",
          "text": [
            "Best parameters: {'alpha': 0.001, 'eta0': 1, 'learning_rate': 'adaptive'}\n",
            "Best RMSE: 71270.32601871536\n",
            "Best MAE: 51679.15811575662\n",
            "Best R2: 0.6123412687164318\n"
          ]
        }
      ],
      "source": [
        "param_grid = {\n",
        "    'learning_rate': ['constant', 'adaptive'],\n",
        "    'eta0': [0.001, 0.01, 0.1, 1, 10],\n",
        "    'alpha': [0.001, 0.01, 0.1, 1, 10]\n",
        "}\n",
        "sgd = SGDRegressor(max_iter=1000, random_state=1234)\n",
        "\n",
        "grid_search = GridSearchCV(sgd, param_grid, cv=5)\n",
        "grid_search.fit(x_train, y_train)\n",
        "best_params = grid_search.best_params_\n",
        "\n",
        "print(f'Best parameters: {best_params}')\n",
        "\n",
        "best_sgd = grid_search.best_estimator_\n",
        "y_best_pred = best_sgd.predict(x_test)\n",
        "best_rmse = mean_squared_error(y_test, y_best_pred)**0.5\n",
        "best_mae = mean_absolute_error(y_test, y_best_pred)\n",
        "best_r2 = r2_score(y_test, y_best_pred)\n",
        "\n",
        "print(f'Best RMSE: {best_rmse}')\n",
        "print(f'Best MAE: {best_mae}')\n",
        "print(f'Best R2: {best_r2}')\n"
      ]
    },
    {
      "cell_type": "markdown",
      "metadata": {
        "id": "SruId9hzJbXH"
      },
      "source": [
        "## `iv` Regularization Mode: On\n",
        "\n",
        "Let's try $l_1$ and $l_2$ regularization. Use default parameters for simplicity. Does regularization made the model generalize better?\n",
        "\n",
        "Which of the two regularizations performs better?"
      ]
    },
    {
      "cell_type": "code",
      "execution_count": 106,
      "metadata": {},
      "outputs": [
        {
          "name": "stdout",
          "output_type": "stream",
          "text": [
            "R2: 0.6125314035437788\n"
          ]
        }
      ],
      "source": [
        "# Lasso l1 Regularization\n",
        "lasso = Lasso(random_state=1234)\n",
        "lasso.fit(x_train, y_train)\n",
        "pred = lasso.predict(x_test)\n",
        "\n",
        "r2 = r2_score(y_test,pred)\n",
        "print(f'R2: {r2}')"
      ]
    },
    {
      "cell_type": "code",
      "execution_count": 105,
      "metadata": {},
      "outputs": [
        {
          "name": "stdout",
          "output_type": "stream",
          "text": [
            "R2: 0.6125261506597295\n"
          ]
        }
      ],
      "source": [
        "# Ridge l2 Regularization\n",
        "ridge = Ridge(random_state=1234)\n",
        "ridge.fit(x_train, y_train)\n",
        "y_pred = ridge.predict(x_test)\n",
        "\n",
        "\n",
        "r2 = r2_score(y_test,y_pred)\n",
        "print(f'R2: {r2}')"
      ]
    },
    {
      "cell_type": "markdown",
      "metadata": {
        "id": "YqLALFTzKx6T"
      },
      "source": [
        "------------------\n",
        "\n",
        "# `07` Generalization Error"
      ]
    },
    {
      "cell_type": "code",
      "execution_count": 111,
      "metadata": {},
      "outputs": [
        {
          "name": "stdout",
          "output_type": "stream",
          "text": [
            "R2: 0.6125567861308163\n"
          ]
        }
      ],
      "source": [
        "model = SGDRegressor(learning_rate='adaptive', penalty=\"l1\", alpha=0.001, eta0=1)\n",
        "model.fit(x_train, y_train)\n",
        "y_pred = model.predict(x_test)\n",
        "\n",
        "\n",
        "r2 = r2_score(y_test,y_pred)\n",
        "\n",
        "\n",
        "print(f'R2: {r2}')"
      ]
    },
    {
      "cell_type": "markdown",
      "metadata": {
        "id": "3y_4u6qu6u6D"
      },
      "source": [
        "----------------------------------------------"
      ]
    }
  ],
  "metadata": {
    "colab": {
      "provenance": []
    },
    "kernelspec": {
      "display_name": "Python 3",
      "name": "python3"
    },
    "language_info": {
      "codemirror_mode": {
        "name": "ipython",
        "version": 3
      },
      "file_extension": ".py",
      "mimetype": "text/x-python",
      "name": "python",
      "nbconvert_exporter": "python",
      "pygments_lexer": "ipython3",
      "version": "3.11.0"
    }
  },
  "nbformat": 4,
  "nbformat_minor": 0
}
